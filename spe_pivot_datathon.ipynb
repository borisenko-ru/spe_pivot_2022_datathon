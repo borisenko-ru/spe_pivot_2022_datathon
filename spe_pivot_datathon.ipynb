{
  "nbformat": 4,
  "nbformat_minor": 0,
  "metadata": {
    "colab": {
      "name": "spe_pivot_datathon.ipynb",
      "provenance": [],
      "machine_shape": "hm",
      "authorship_tag": "ABX9TyMeSy23+fJDXqT0+2NuWQ1H"
    },
    "kernelspec": {
      "name": "python3",
      "display_name": "Python 3"
    },
    "language_info": {
      "name": "python"
    },
    "accelerator": "GPU",
    "gpuClass": "standard"
  },
  "cells": [
    {
      "cell_type": "markdown",
      "source": [
        "<a href=\"https://colab.research.google.com/github/borisenko-ru/spe_pivot_2022_datathon/blob/main/spe_pivot_datathon.ipynb\" target=\"_parent\"><img src=\"https://colab.research.google.com/assets/colab-badge.svg\" alt=\"Open In Colab\"/></a>\n",
        "[![nbviewer](https://raw.githubusercontent.com/jupyter/design/master/logos/Badges/nbviewer_badge.svg)](https://nbviewer.org/github/borisenko-ru/spe_pivot_2022_datathon/blob/main/spe_pivot_datathon.ipynb)\n",
        "[![Binder](https://mybinder.org/badge_logo.svg)](https://mybinder.org/v2/gh/borisenko-ru/spe_pivot_2022_datathon/blob/main/spe_pivot_datathon.ipynb/HEAD)"
      ],
      "metadata": {
        "id": "QN4Uj2_WVgNs"
      }
    },
    {
      "cell_type": "markdown",
      "source": [
        "# SPE PIVOT 2022 Geothermal Datathon\n"
      ],
      "metadata": {
        "id": "KZF9onpxo4Zj"
      }
    },
    {
      "cell_type": "markdown",
      "source": [
        "### Dataset structure\n",
        "INPUTS:\n",
        "*\t<b>\ta\t-\tShear displacement-dilation coefficient\t</b>\tm/m\tScaling\n",
        "*\t<b>\talpha\t-\tFracture compressibility\t</b>\t1/MPa\tScaling\n",
        "*\t<b>\tAmbPres\t-\tAmbient surface pressure\t</b>\tMPa\tSite\n",
        "*\t<b>\tAmbTempC\t-\tAmbient surface temperature\t</b>\tC\tSite\n",
        "*\t<b>\tb\t-\tShear displacement-dilation exponent\t</b>\t-\tScaling\n",
        "*\t<b>\tbh\t-\tDefault hydraulic aperture\t</b>\tm\tScaling\n",
        "*\t<b>\tbh_bound\t-\tBoundary hydraulic aperture\t</b>\tm\tSite\n",
        "*\t<b>\tbh_max\t-\tMaximum hydraulic aperture\t</b>\tm\tSolver Setup\n",
        "*\t<b>\tbh_min\t-\tMinimum hydraulic aperture\t</b>\tm\tSolver Setup\n",
        "*\t<b>\tBH_P\t-\tReservoir pore pressure\t</b>\tMPa\tSite\n",
        "*\t<b>\tBH_T\t-\tReservoir temperature\t</b>\tR\tSite\n",
        "*\t<b>\tbval\t-\tb-value (Gutenberg Richter)\t</b>\t\tSolver Setup\n",
        "*\t<b>\tCemKt\t-\tCement thermal conductivity\t</b>\tW/mK\tWell\n",
        "*\t<b>\tCemSv\t-\tCement volumetric specific heat capacity\t</b>\tkJ/m3K\tWell\n",
        "*\t<b>\tdE0\t-\tInitial thermal energy withdraw\t</b>\tkJ/m2\tSolver Setup\n",
        "*\t<b>\tdPi\t-\tPressure increment\t</b>\tMPa\tSolver Setup\n",
        "*\t<b>\tdPp\t-\tProduction well pressure rise\t</b>\tMPa\tWell\n",
        "*\t<b>\tdT0\t-\tInitial temperature gradient\t</b>\tK\tSolver Setup\n",
        "*\t<b>\tf_roughness\t-\tFracture roughness\t</b>\t-\tScaling\n",
        "*\t<b>\tfDia\t-\tFracture set 1 diameter\t</b>\tm\tFracture\n",
        "*\t<b>\tfDia\t-\tFracture set 2 diameter\t</b>\tm\tFracture\n",
        "*\t<b>\tfDia\t-\tFracture set 3 diameter\t</b>\tm\tFracture\n",
        "*\t<b>\tfDip\t-\tFracture set 1 dip\t</b>\tdeg\tFracture\n",
        "*\t<b>\tfDip\t-\tFracture set 2 dip\t</b>\tdeg\tFracture\n",
        "*\t<b>\tfDip\t-\tFracture set 3 dip\t</b>\tdeg\tFracture\n",
        "*\t<b>\tfNum\t-\tFracture set 1 count\t</b>\tfractures\tFracture\n",
        "*\t<b>\tfNum\t-\tFracture set 2 count\t</b>\tfractures\tFracture\n",
        "*\t<b>\tfNum\t-\tFracture set 3 count\t</b>\tfractures\tFracture\n",
        "*\t<b>\tFrack\t-\tFracture permeability\t</b>\tmD\tScaling\n",
        "*\t<b>\tfStr\t-\tFracture set 1 strike\t</b>\tdeg\tFracture\n",
        "*\t<b>\tfStr\t-\tFracture set 2 strike\t</b>\tdeg\tFracture\n",
        "*\t<b>\tfStr\t-\tFracture set 3 strike\t</b>\tdeg\tFracture\n",
        "*\t<b>\tgamma\t-\tShear displacement-length coefficient\t</b>\tm/m\tScaling\n",
        "*\t<b>\tGenEfficiency\t-\tElectrical generator efficiency\t</b>\t-\tPower\n",
        "*\t<b>\tH_ConvCoef\t-\tBorehole thermal convection coefficient\t</b>\tkW/m2K\tWell\n",
        "*\t<b>\thfmcc\t-\tHydraulic fracture cohesion\t</b>\tMPa\tSite\n",
        "*\t<b>\thfphi\t-\tHydraulic fracture friction angle\t</b>\tdeg\tSite\n",
        "*\t<b>\tKs2\t-\tIntermediate earth pressure coefficient\t</b>\tPa/Pa\tStress\n",
        "*\t<b>\tKs3\t-\tMinimum lateral earth pressure coefficient\t</b>\tPa/Pa\tStress\n",
        "*\t<b>\tleakoff\t-\tCarter leakoff coefficient\t</b>\t\tStimulation\n",
        "*\t<b>\tLifeSpan\t-\tProject lifespan\t</b>\tyr\tPower\n",
        "*\t<b>\tmcc\t-\tCohesion\t</b>\tMPa\tFracture\n",
        "*\t<b>\tN\t-\tWitherspoon factor\t</b>\tm/m\tScaling\n",
        "*\t<b>\tn1\t-\tShear displacement-length exponent\t</b>\t-\tScaling\n",
        "*\t<b>\tp_whp\t-\tPower plant inlet pressure\t</b>\tMPa\tPower\n",
        "*\t<b>\tperf\t-\tPerforation count\t</b>\tperfs\tWell\n",
        "*\t<b>\tphi\t-\tFriction Angle\t</b>\t-\tFracture\n",
        "*\t<b>\tPorek\t-\tMatrix permeability\t</b>\tmD\tScaling\n",
        "*\t<b>\tPoremu\t-\tWater dynamic viscosity\t</b>\tcP\tSolver Setup\n",
        "*\t<b>\tPoreRho\t-\tWater density for flow analysis\t</b>\tkg/m3\tSolver Setup\n",
        "*\t<b>\tQinj\t-\tCirculation flow rate\t</b>\tm3/s\tStimulation\n",
        "*\t<b>\tQstim\t-\tStimulation flow rate\t</b>\tm3/s\tStimulation\n",
        "*\t<b>\tr_perf\t-\tPerforation radus\t</b>\tm\tSolver Setup\n",
        "*\t<b>\tra\t-\tCasing inner radius\t</b>\tm\tWell\n",
        "*\t<b>\trb\t-\tCasing outer radius\t</b>\tm\tWell\n",
        "*\t<b>\trc\t-\tBorehole radius\t</b>\tm\tWell\n",
        "*\t<b>\tResDepth\t-\tNominal reservoir depth\t</b>\tm\tSite\n",
        "*\t<b>\tResE\t-\tRock elastic modulus\t</b>\tGPa\tStress\n",
        "*\t<b>\tResGradient\t-\tGeothermal gradient\t</b>\tK/km\tSite\n",
        "*\t<b>\tResKt\t-\tRock thermal conductivity\t</b>\tW/mK\tSite\n",
        "*\t<b>\tResRho\t-\tRock density\t</b>\tkg/m3\tSite\n",
        "*\t<b>\tResSv\t-\tRock volumetric specific heat capacity\t</b>\tkJ/m3K\tSite\n",
        "*\t<b>\tResv\t-\tRock Poisson's ratio\t</b>\tm/m\tStress\n",
        "*\t<b>\trgh\t-\tHazen-Williams friction coefficient\t</b>\t-\tWell\n",
        "*\t<b>\ts1\t-\tOverburden stress\t</b>\tPa\tStress\n",
        "*\t<b>\ts2\t-\tIntermediate stress\t</b>\tPa\tStress\n",
        "*\t<b>\ts3\t-\tMinimum stress\t</b>\tPa\tStress\n",
        "*\t<b>\ts3Azn\t-\tMinimum stress azimuth\t</b>\tdeg\tStress\n",
        "*\t<b>\ts3Dip\t-\tMinimum stress dip\t</b>\tdeg\tStress\n",
        "*\t<b>\tsand\t-\tFrac sand concentration\t</b>\t\tStimulation\n",
        "*\t<b>\tsize\t-\tDomain size (i.e., cubic side length)\t</b>\tm\tSolver Setup\n",
        "*\t<b>\tstim_limit\t-\tNumber of iterations before pressure increment\t</b>\t\tSolver Setup\n",
        "*\t<b>\tTimeSteps\t-\tThermal analysis timesteps\t</b>\tsteps\tSolver Setup\n",
        "*\t<b>\tTinj\t-\tInjection temperature\t</b>\tC\tPower\n",
        "*\t<b>\tVstim\t-\tStimulation volume\t</b>\tm3\tStimulation\n",
        "*\t<b>\tw_azimuth\t-\tWell azimuth\t</b>\tdeg\tWell\n",
        "*\t<b>\tw_count\t-\tWell count\t</b>\twells\tWell\n",
        "*\t<b>\tw_dip\t-\tWell dip\t</b>\tdeg\tWell\n",
        "*\t<b>\tw_intervals\t-\tWell intervals\t</b>\tzones\tWell\n",
        "*\t<b>\tw_length\t-\tWell length\t</b>\tm\tWell\n",
        "*\t<b>\tw_phase\t-\tWell phase\t</b>\tdeg\tWell\n",
        "*\t<b>\tw_proportion\t-\tWell proportion\t</b>\tdeg\tWell\n",
        "*\t<b>\tw_skew\t-\tWell skew\t</b>\tdeg\tWell\n",
        "*\t<b>\tw_spacing\t-\tWell spacing\t</b>\tm\tWell\n",
        "*\t<b>\tw_toe\t-\tWell toe\t</b>\tdeg\tWell\n",
        "\n",
        "OUTPUTS:\n",
        "*\t<b>\tdhout</b> - timeseries\t\tExtracted thermal power - time variable\tkJ/s\tPower\n",
        "*\t<b>\tdia_last\t</b>\tFinal diameter of freshest fracture\tm\tInterpretation\n",
        "*\t<b>\th0 \t</b>- timeseries\tEnthalpy of injected fluid\tkJ/kg\tPower\n",
        "*\t<b>\th0 </b>- timeseries\t\tEnthalpy of produced fluid\tkJ/kg\tPower\n",
        "*\t<b>\thfstim\t</b>\tNumber of stimulated hydraulic fractures\tfractures\tIntercepts\n",
        "*\t<b>\thinj\t</b>\tEnthalpy of injected fluid\tkJ/kg\tEfficiency\n",
        "*\t<b>\thpro </b>- timeseries\t\tProduction enthalpy - time variable\tkJ/kg\tPower\n",
        "*\t<b>\tixint\t</b>\tNumber of fractures intercepting injectors\tfractures\tIntercepts\n",
        "*\t<b>\tm0\t</b>\tMass flow rate into injection well\tkg/s\tPower\n",
        "*\t<b>\tm0\t</b>\tMass flow rate into production well\tkg/s\tPower\n",
        "*\t<b>\tmpro\t</b>\tProduction mass flow rate\tkg/s\tPower\n",
        "*\t<b>\tnfstim\t</b>\tNumber of stimulated natural fracutres\tfractures\tIntercepts\n",
        "*\t<b>\tPc_last\t</b>\tCritical pressure of freshest fracture\tPa\tInterpretation\n",
        "*\t<b>\tPcen_last\t</b>\tCenter pore pressure in freshest fracture\tPa\tInterpretation\n",
        "*\t<b>\tpinj\t</b>\tPressure of injected fluid\tMPa\tEfficiency\n",
        "*\t<b>\tPmax_last\t</b>\tMax pore pressure in freshest fracture\tPa\tInterpretation\n",
        "*\t<b>\tPout</b> - timeseries\t\tRankine electrical power - time variable\tkW\tPower\n",
        "*\t<b>\tpxint\t</b>\tNumber of fractures intercepting producers\tfractures\tIntercepts\n",
        "*\t<b>\tq0\t</b>\tVolume flow rate into injection well\tm3/s\tPower\n",
        "*\t<b>\tq0\t</b>\tVolume flow rate into production well\tm3/s\tPower\n",
        "*\t<b>\tqgain\t</b>\tBoundary inflow rate\tm3/s\tEfficiency\n",
        "*\t<b>\tqinj\t</b>\tCumulative injection rate\tm3/s\tEfficiency\n",
        "*\t<b>\tqleak\t</b>\tBoundary outflow rate\tm3/s\tEfficiency\n",
        "*\t<b>\tqpro\t</b>\tCumulative production rate\tm3/s\tEfficiency\n",
        "*\t<b>\trecovery\t</b>\tProduction rate / Injection rate\tratio\tEfficiency\n",
        "*\t<b>\tsn_last\t</b>\tNormal stress on freshest fracture\tPa\tInterpretation\n",
        "*\t<b>\tT0 - </b>timeseries\t\tTemperature at injection well\tK\tPower\n",
        "*\t<b>\tT0 - </b>timeseries\t\tTemperature at production well\tK\tPower\n",
        "*\t<b>\ttype_last\t</b>\tType of freshest fracture\t-\tInterpretation\n",
        "*\t<b>\tv5\t</b>\tSpecific volume at injection well\tm3/kg\tEfficiency\n"
      ],
      "metadata": {
        "id": "A9iVyQeFo9d-"
      }
    },
    {
      "cell_type": "markdown",
      "source": [
        "#### Investigaton of `inputs_results_FORGE_main30yr`\t(Primary dataset)\n",
        "This input & output dataset summary has **44,492** realizations covering:\n",
        "* 30 years of production\n",
        "* Two-well injector-producer design\n",
        "* Large parameter space.\n",
        "\n",
        "Experience from a large number of projects is needed to anticipate how future works will perform. "
      ],
      "metadata": {
        "id": "WDiFwggzpCVG"
      }
    },
    {
      "cell_type": "code",
      "source": [
        "!pip install catboost"
      ],
      "metadata": {
        "id": "NRmJOTZdeo-0",
        "outputId": "b57949d1-27c8-4688-fe7e-f9e4fb69764a",
        "colab": {
          "base_uri": "https://localhost:8080/"
        }
      },
      "execution_count": 1,
      "outputs": [
        {
          "output_type": "stream",
          "name": "stdout",
          "text": [
            "Looking in indexes: https://pypi.org/simple, https://us-python.pkg.dev/colab-wheels/public/simple/\n",
            "Collecting catboost\n",
            "  Downloading catboost-1.0.6-cp37-none-manylinux1_x86_64.whl (76.6 MB)\n",
            "\u001b[K     |████████████████████████████████| 76.6 MB 1.2 MB/s \n",
            "\u001b[?25hRequirement already satisfied: scipy in /usr/local/lib/python3.7/dist-packages (from catboost) (1.7.3)\n",
            "Requirement already satisfied: matplotlib in /usr/local/lib/python3.7/dist-packages (from catboost) (3.2.2)\n",
            "Requirement already satisfied: numpy>=1.16.0 in /usr/local/lib/python3.7/dist-packages (from catboost) (1.21.6)\n",
            "Requirement already satisfied: graphviz in /usr/local/lib/python3.7/dist-packages (from catboost) (0.10.1)\n",
            "Requirement already satisfied: pandas>=0.24.0 in /usr/local/lib/python3.7/dist-packages (from catboost) (1.3.5)\n",
            "Requirement already satisfied: plotly in /usr/local/lib/python3.7/dist-packages (from catboost) (5.5.0)\n",
            "Requirement already satisfied: six in /usr/local/lib/python3.7/dist-packages (from catboost) (1.15.0)\n",
            "Requirement already satisfied: python-dateutil>=2.7.3 in /usr/local/lib/python3.7/dist-packages (from pandas>=0.24.0->catboost) (2.8.2)\n",
            "Requirement already satisfied: pytz>=2017.3 in /usr/local/lib/python3.7/dist-packages (from pandas>=0.24.0->catboost) (2022.1)\n",
            "Requirement already satisfied: cycler>=0.10 in /usr/local/lib/python3.7/dist-packages (from matplotlib->catboost) (0.11.0)\n",
            "Requirement already satisfied: kiwisolver>=1.0.1 in /usr/local/lib/python3.7/dist-packages (from matplotlib->catboost) (1.4.3)\n",
            "Requirement already satisfied: pyparsing!=2.0.4,!=2.1.2,!=2.1.6,>=2.0.1 in /usr/local/lib/python3.7/dist-packages (from matplotlib->catboost) (3.0.9)\n",
            "Requirement already satisfied: typing-extensions in /usr/local/lib/python3.7/dist-packages (from kiwisolver>=1.0.1->matplotlib->catboost) (4.1.1)\n",
            "Requirement already satisfied: tenacity>=6.2.0 in /usr/local/lib/python3.7/dist-packages (from plotly->catboost) (8.0.1)\n",
            "Installing collected packages: catboost\n",
            "Successfully installed catboost-1.0.6\n"
          ]
        }
      ]
    },
    {
      "cell_type": "code",
      "execution_count": null,
      "metadata": {
        "id": "l15KpnTmuMZr"
      },
      "outputs": [],
      "source": [
        "import pandas as pd\n",
        "import numpy as np\n",
        "import seaborn as sns\n",
        "import catboost\n",
        "import time\n",
        "\n",
        "from matplotlib import pyplot as plt\n",
        "from sklearn.model_selection import train_test_split\n",
        "from sklearn.metrics import f1_score\n",
        "from catboost import CatBoostClassifier\n",
        "\n",
        "from google.colab import output\n",
        "output.enable_custom_widget_manager()\n",
        "from google.colab import drive\n",
        "drive.mount('/content/gdrive')\n",
        "\n",
        "import warnings\n",
        "warnings.filterwarnings(\"ignore\")\n",
        "rnd_state = 13\n"
      ]
    },
    {
      "cell_type": "code",
      "source": [
        "%cd /content/gdrive/My Drive/Colab Notebooks\n"
      ],
      "metadata": {
        "id": "PEAv2uvpuUz8"
      },
      "execution_count": null,
      "outputs": []
    },
    {
      "cell_type": "markdown",
      "source": [
        "#### Objective functions\n",
        "* Timeseries without losses\n",
        "$$P_{usable}=0.13(dhout+(h_{95C}-h_{120C})mpro)$$ \\\\\n",
        "* Cumulative without Losses\n",
        "$$P_{usable}=\\frac{1}{20yr} \\int^{20}_{0} 0.13(dhout+(h_{95C}-h_{120C})mpro)dt$$ \\\\\n",
        "* Timeseries with Losses\n",
        "$$P_{usable}=0.13(dhout+(h_{95C}-h_{120C}-v5(Pinj-Pwhp))mpro)$$ \\\\\n",
        "where: \\\\\n",
        "$P_{usable}$ - amount of enthalpy, kJ/s \\\n",
        "$dhout$ - enthalpy-rate change from injection to production, kJ/s \\\n",
        "$h_{95C},h_{120C}$ - reference enthalpies (calculated), kJ/kg \\\n",
        "$v5$ - specific volume (thermodynamic term), m<sup>3</sup>/kg \\\n",
        "$P_{inj}$ - pressure of injected fluid, MPa (x10<sup>3</sup> kJ/m<sup>3</sup>) \\\n",
        "$P_{whp}$ - power plant inlet pressure, MPa (x10<sup>3</sup> kJ/m<sup>3</sup>) \\\n",
        "$mpro$ - production mass flowrate, kg/s\n"
      ],
      "metadata": {
        "id": "pF1xYEPqushL"
      }
    },
    {
      "cell_type": "markdown",
      "source": [
        "Performance indicators:\n",
        "* $hpro$ - Production Enthalpy, kJ/kg\n",
        "* $T0$ - Production Temperature, K\n",
        "* $dhout$ - Thermal Recovery - enthalpy-rate change from injection to production, kJ/s\n",
        "* $Pout$ - Electrical Power Output, kW\n"
      ],
      "metadata": {
        "id": "WeyyDvxQ4Vsw"
      }
    },
    {
      "cell_type": "code",
      "source": [
        "inputs_results_main30yr = pd.read_csv('datasets/inputs_results_FORGE_main30yr.csv')\n"
      ],
      "metadata": {
        "id": "QhFfUN9iuW3w"
      },
      "execution_count": null,
      "outputs": []
    },
    {
      "cell_type": "markdown",
      "source": [
        "## Plot performance by electrical power output"
      ],
      "metadata": {
        "id": "gjNRpMb0MFk7"
      }
    },
    {
      "cell_type": "code",
      "source": [
        "# plot top-5 simulations by electrical power output\n",
        "\n",
        "cols_pout = [c for c in inputs_results_main30yr.columns if c[:4] == 'pin' or c[:4] == 'Pout']\n",
        "inputs_results_main30yr_Pout = inputs_results_main30yr[cols_pout]\n",
        "top5 = inputs_results_main30yr_Pout.sort_values(by=inputs_results_main30yr_Pout.columns[-1], ascending=False).head(5)\n"
      ],
      "metadata": {
        "id": "joTbeTnW6AA1"
      },
      "execution_count": null,
      "outputs": []
    },
    {
      "cell_type": "code",
      "source": [
        "for time_step in range(0,3000,25):\n",
        "  sns.scatterplot(data=top5, x=time_step/100, y=top5['Pout'+f':{time_step/100:,.3f}'], hue=top5['pin'], legend=False)\n",
        "\n",
        "plt.ylabel('Pout')\n",
        "plt.show()\n"
      ],
      "metadata": {
        "id": "Jc3dRcA679vc"
      },
      "execution_count": null,
      "outputs": []
    },
    {
      "cell_type": "code",
      "source": [
        "# see the number of electrical power output simulations with all-time unchanged data\n",
        "duplicates = 20\n",
        "\n",
        "valid_pins = []\n",
        "for index, row in inputs_results_main30yr_Pout.iterrows():\n",
        "  if row.nunique() > len(row)-duplicates and row[-1] > 50:\n",
        "    valid_pins.append(row[0])\n",
        "  else:\n",
        "    pass\n",
        "len(valid_pins)\n"
      ],
      "metadata": {
        "id": "o7g2-xlS9g_O"
      },
      "execution_count": null,
      "outputs": []
    },
    {
      "cell_type": "code",
      "source": [
        "# plot top-5 valid high-performance simulations by electrical power output\n",
        "\n",
        "inputs_results_main30yr_Pout_valid = inputs_results_main30yr_Pout[inputs_results_main30yr_Pout['pin'].isin(valid_pins)]\n",
        "top5_Pout_valid = inputs_results_main30yr_Pout_valid.sort_values(by=inputs_results_main30yr_Pout_valid.columns[-1], ascending=False).head(5)\n",
        "\n",
        "for time_step in range(0,3000,25):\n",
        "  sns.scatterplot(data=top5_Pout_valid, x=time_step/100, y=top5_Pout_valid['Pout'+f':{time_step/100:,.3f}'], hue=top5_Pout_valid['pin'], legend=False)\n",
        "\n",
        "plt.ylabel('Pout')\n",
        "plt.show()\n",
        "\n",
        "print('Top-5 high-performance simulation: ', top5_Pout_valid['pin'])\n"
      ],
      "metadata": {
        "id": "AgBZHfyTIkQw"
      },
      "execution_count": null,
      "outputs": []
    },
    {
      "cell_type": "code",
      "source": [
        "# plot high-performance simulation by electrical power output\n",
        "\n",
        "top_Pout_valid_high = inputs_results_main30yr_Pout_valid.sort_values(by=inputs_results_main30yr_Pout_valid.columns[-1], ascending=False).head(1)\n",
        "\n",
        "for time_step in range(0,3000,25):\n",
        "  sns.scatterplot(data=top_Pout_valid_high, x=time_step/100, y=top_Pout_valid_high['Pout'+f':{time_step/100:,.3f}'], hue=top_Pout_valid_high['pin'], legend=False)\n",
        "\n",
        "plt.ylabel('Pout')\n",
        "plt.show()\n",
        "\n",
        "print('High-performance simulation: ', top_Pout_valid_high['pin'])\n"
      ],
      "metadata": {
        "id": "B-iSVQ8sP6CC"
      },
      "execution_count": null,
      "outputs": []
    },
    {
      "cell_type": "code",
      "source": [
        "# plot bottom-5 valid low-performance simulations by electrical power output\n",
        "\n",
        "inputs_results_main30yr_Pout_valid = inputs_results_main30yr_Pout[inputs_results_main30yr_Pout['pin'].isin(valid_pins)]\n",
        "btm5_Pout_valid = inputs_results_main30yr_Pout_valid.sort_values(by=inputs_results_main30yr_Pout_valid.columns[-1], ascending=False).tail(5)\n",
        "\n",
        "for time_step in range(0,3000,25):\n",
        "  sns.scatterplot(data=btm5_Pout_valid, x=time_step/100, y=btm5_Pout_valid['Pout'+f':{time_step/100:,.3f}'], hue=btm5_Pout_valid['pin'], legend=False)\n",
        "\n",
        "plt.ylabel('Pout')\n",
        "plt.show()\n",
        "\n",
        "print('Bottom-5 low-performance simulation: ', btm5_Pout_valid['pin'])\n"
      ],
      "metadata": {
        "id": "ma1ejPimQ8My"
      },
      "execution_count": null,
      "outputs": []
    },
    {
      "cell_type": "code",
      "source": [
        "# plot low-performance simulation by electrical power output\n",
        "\n",
        "btm_Pout_valid_low = inputs_results_main30yr_Pout_valid.sort_values(by=inputs_results_main30yr_Pout_valid.columns[-1], ascending=False).tail(1)\n",
        "\n",
        "for time_step in range(0,3000,25):\n",
        "  sns.scatterplot(data=btm_Pout_valid_low, x=time_step/100, y=btm_Pout_valid_low['Pout'+f':{time_step/100:,.3f}'], hue=btm_Pout_valid_low['pin'], legend=False)\n",
        "\n",
        "plt.ylabel('Pout')\n",
        "plt.show()\n",
        "\n",
        "print('Low performance simulation: ', btm_Pout_valid_low['pin'])\n"
      ],
      "metadata": {
        "id": "4cCK9bPYcPRI"
      },
      "execution_count": null,
      "outputs": []
    },
    {
      "cell_type": "code",
      "source": [
        "inputs_results_main30yr_Pout_valid"
      ],
      "metadata": {
        "id": "5TveGz51vWzO"
      },
      "execution_count": null,
      "outputs": []
    },
    {
      "cell_type": "code",
      "source": [
        "# plot high-performance simulation by thermal recovery\n",
        "top_dhout = inputs_results_main30yr[inputs_results_main30yr['pin'].isin(top_Pout_valid_high['pin'])]\n",
        "for time_step in range(0,3000,25):\n",
        "  sns.scatterplot(data=top_dhout, x=time_step/100, y=top_dhout['dhout'+f':{time_step/100:,.3f}'], hue=top_dhout['pin'], legend=False)\n",
        "\n",
        "plt.ylabel('dhout')\n",
        "plt.show()\n",
        "\n",
        "print('High performance simulation: ', top_dhout['pin'])\n"
      ],
      "metadata": {
        "id": "L3OqMjgI0XuW"
      },
      "execution_count": null,
      "outputs": []
    },
    {
      "cell_type": "code",
      "source": [
        "# plot low-performance simulation by thermal recovery\n",
        "btm_dhout = inputs_results_main30yr[inputs_results_main30yr['pin'].isin(btm_Pout_valid_low['pin'])]\n",
        "for time_step in range(0,3000,25):\n",
        "  sns.scatterplot(data=btm_dhout, x=time_step/100, y=btm_dhout['dhout'+f':{time_step/100:,.3f}'], hue=btm_dhout['pin'], legend=False)\n",
        "\n",
        "plt.ylabel('dhout')\n",
        "plt.show()\n",
        "\n",
        "print('Low performance simulation: ', btm_dhout['pin'])\n"
      ],
      "metadata": {
        "id": "IYSsm34O2C82"
      },
      "execution_count": null,
      "outputs": []
    },
    {
      "cell_type": "code",
      "source": [
        "# plot high-performance simulation by production enthalpy\n",
        "for time_step in range(0,3000,25):\n",
        "  sns.scatterplot(data=top_dhout, x=time_step/100, y=top_dhout['hpro'+f':{time_step/100:,.3f}'], hue=top_dhout['pin'], legend=False)\n",
        "\n",
        "plt.ylabel('hpro')\n",
        "plt.show()\n",
        "\n",
        "print('High performance simulation: ', top_dhout['pin'])\n"
      ],
      "metadata": {
        "id": "PGnuiyOu5cEx"
      },
      "execution_count": null,
      "outputs": []
    },
    {
      "cell_type": "code",
      "source": [
        "# plot low-performance simulation by production enthalpy\n",
        "for time_step in range(0,3000,25):\n",
        "  sns.scatterplot(data=btm_dhout, x=time_step/100, y=btm_dhout['hpro'+f':{time_step/100:,.3f}'], hue=btm_dhout['pin'], legend=False)\n",
        "\n",
        "plt.ylabel('hpro')\n",
        "plt.show()\n",
        "\n",
        "print('Low performance simulation: ', btm_dhout['pin'])\n"
      ],
      "metadata": {
        "id": "Nawl9yI95p6D"
      },
      "execution_count": null,
      "outputs": []
    },
    {
      "cell_type": "code",
      "source": [
        "print('High performance simulation well spacing: ', list(inputs_results_main30yr[inputs_results_main30yr['pin'] == 658302738]['w_spacing']))\n",
        "print('Low performance simulation well spacing: ', list(inputs_results_main30yr[inputs_results_main30yr['pin'] == 385011569]['w_spacing']))\n"
      ],
      "metadata": {
        "id": "DY63TfePMBYJ"
      },
      "execution_count": null,
      "outputs": []
    },
    {
      "cell_type": "markdown",
      "source": [
        "## Plot performance by calculated amount of enthalpy\n"
      ],
      "metadata": {
        "id": "GraFByuvL0Lu"
      }
    },
    {
      "cell_type": "markdown",
      "source": [
        "### Timeseries without Losses"
      ],
      "metadata": {
        "id": "ER5emfpOMvp_"
      }
    },
    {
      "cell_type": "code",
      "source": [
        "# P_usable = 0.13 * (dhout + (h_95C - h_120C) * mpro)\n",
        "\n",
        "h_95C = 398.11 #kJ/kg\n",
        "h_120C = 503.81 #kJ/kg\n"
      ],
      "metadata": {
        "id": "PcMXWhkXlg1p"
      },
      "execution_count": null,
      "outputs": []
    },
    {
      "cell_type": "code",
      "source": [
        "inputs_results_main30yr_P_usable = inputs_results_main30yr.copy()\n",
        "\n",
        "for time_step in range(0,3000,25):\n",
        "  inputs_results_main30yr_P_usable['P_usable'+f':{time_step/100:,.3f}'] = 0.13 * (inputs_results_main30yr_P_usable['dhout'+f':{time_step/100:,.3f}'] + (h_95C - h_120C) * inputs_results_main30yr_P_usable['mpro'])\n",
        "\n",
        "inputs_results_main30yr_P_usable.head(3)\n"
      ],
      "metadata": {
        "id": "n0fM9S5-_MTC"
      },
      "execution_count": null,
      "outputs": []
    },
    {
      "cell_type": "code",
      "source": [
        "# plot top-5 simulations by calculated amount of enthalpy\n",
        "cols_p_usable = [c for c in inputs_results_main30yr_P_usable.columns if c[:4] == 'pin' or c[:8] == 'P_usable']\n",
        "inputs_results_main30yr_P_usable_x = inputs_results_main30yr_P_usable[cols_p_usable]\n",
        "top5 = inputs_results_main30yr_P_usable_x.sort_values(by=inputs_results_main30yr_P_usable_x.columns[-1], ascending=False).head(5)\n",
        "\n",
        "for time_step in range(0,3000,25):\n",
        "  sns.scatterplot(data=top5, x=time_step/100, y=top5['P_usable'+f':{time_step/100:,.3f}'], hue=top5['pin'], legend=False)\n",
        "\n",
        "plt.ylabel('P_usable')\n",
        "plt.show()\n"
      ],
      "metadata": {
        "id": "WLIFhFYyCeTS"
      },
      "execution_count": null,
      "outputs": []
    },
    {
      "cell_type": "code",
      "source": [
        "# see the number of calculated amount of enthalpy simulations with all-time unchanged data\n",
        "duplicates = 20\n",
        "\n",
        "valid_pins = []\n",
        "for index, row in inputs_results_main30yr_P_usable_x.iterrows():\n",
        "  if row.nunique() > len(row)-duplicates and row[-1] > 50 and row[1] > 100:\n",
        "    valid_pins.append(row[0])\n",
        "  else:\n",
        "    pass\n",
        "len(valid_pins)\n"
      ],
      "metadata": {
        "id": "Lpm91vkPDB57"
      },
      "execution_count": null,
      "outputs": []
    },
    {
      "cell_type": "code",
      "source": [
        "# plot top-5 valid high-performance simulations by calculated amount of enthalpy\n",
        "\n",
        "inputs_results_main30yr_P_usable_x_valid = inputs_results_main30yr_P_usable_x[inputs_results_main30yr_P_usable_x['pin'].isin(valid_pins)]\n",
        "top5_P_usable_x_valid = inputs_results_main30yr_P_usable_x_valid.sort_values(by=inputs_results_main30yr_P_usable_x_valid.columns[-1], ascending=False).head(5)\n",
        "\n",
        "for time_step in range(0,3000,25):\n",
        "  sns.scatterplot(data=top5_P_usable_x_valid, x=time_step/100, y=top5_P_usable_x_valid['P_usable'+f':{time_step/100:,.3f}'], hue=top5_P_usable_x_valid['pin'], legend=False)\n",
        "\n",
        "plt.ylabel('P_usable')\n",
        "plt.show()\n",
        "\n",
        "print('Top-5 high-performance simulation: ', top5_P_usable_x_valid['pin'])\n"
      ],
      "metadata": {
        "id": "rj58GJEUD0va"
      },
      "execution_count": null,
      "outputs": []
    },
    {
      "cell_type": "code",
      "source": [
        "# plot high-performance simulation by calculated amount of enthalpy\n",
        "\n",
        "top_P_usable_x_valid_high = inputs_results_main30yr_P_usable_x_valid.sort_values(by=inputs_results_main30yr_P_usable_x_valid.columns[-1], ascending=False).head(1)\n",
        "\n",
        "for time_step in range(0,3000,25):\n",
        "  sns.scatterplot(data=top_P_usable_x_valid_high, x=time_step/100, y=top_P_usable_x_valid_high['P_usable'+f':{time_step/100:,.3f}'], hue=top_P_usable_x_valid_high['pin'], legend=False)\n",
        "\n",
        "plt.ylabel('P_usable')\n",
        "plt.show()\n",
        "\n",
        "print('High-performance simulation: ', top_P_usable_x_valid_high['pin'])\n"
      ],
      "metadata": {
        "id": "i7erw30MEQ3U"
      },
      "execution_count": null,
      "outputs": []
    },
    {
      "cell_type": "code",
      "source": [
        "# plot bottom-5 valid low-performance simulations by calculated amount of enthalpy\n",
        "\n",
        "inputs_results_main30yr_P_usable_x_valid = inputs_results_main30yr_P_usable_x[inputs_results_main30yr_P_usable_x['pin'].isin(valid_pins)]\n",
        "btm5_P_usable_x_valid = inputs_results_main30yr_P_usable_x_valid.sort_values(by=inputs_results_main30yr_P_usable_x_valid.columns[-1], ascending=False).tail(5)\n",
        "\n",
        "for time_step in range(0,3000,25):\n",
        "  sns.scatterplot(data=btm5_P_usable_x_valid, x=time_step/100, y=btm5_P_usable_x_valid['P_usable'+f':{time_step/100:,.3f}'], hue=btm5_P_usable_x_valid['pin'], legend=False)\n",
        "\n",
        "plt.ylabel('P_usable')\n",
        "plt.show()\n",
        "\n",
        "print('Bottom-5 low-performance simulation: ', btm5_P_usable_x_valid['pin'])\n"
      ],
      "metadata": {
        "id": "KQNUXYQZEpT9"
      },
      "execution_count": null,
      "outputs": []
    },
    {
      "cell_type": "code",
      "source": [
        "# plot low-performance simulation by calculated amount of enthalpy\n",
        "\n",
        "btm_P_usable_x_valid_low = inputs_results_main30yr_P_usable_x_valid.sort_values(by=inputs_results_main30yr_P_usable_x_valid.columns[-1], ascending=False).tail(1)\n",
        "\n",
        "for time_step in range(0,3000,25):\n",
        "  sns.scatterplot(data=btm_P_usable_x_valid_low, x=time_step/100, y=btm_P_usable_x_valid_low['P_usable'+f':{time_step/100:,.3f}'], hue=btm_P_usable_x_valid_low['pin'], legend=False)\n",
        "\n",
        "plt.ylabel('P_usable')\n",
        "plt.show()\n",
        "\n",
        "print('Low performance simulation: ', btm_P_usable_x_valid_low['pin'])\n"
      ],
      "metadata": {
        "id": "c4hSOl1qFF0w"
      },
      "execution_count": null,
      "outputs": []
    },
    {
      "cell_type": "code",
      "source": [
        "print('High performance simulation well spacing: ', list(inputs_results_main30yr[inputs_results_main30yr['pin'] == 299774151]['w_spacing']))\n",
        "print('Low performance simulation well spacing: ', list(inputs_results_main30yr[inputs_results_main30yr['pin'] == 877195377]['w_spacing']))\n"
      ],
      "metadata": {
        "id": "vaNih3pzGRru"
      },
      "execution_count": null,
      "outputs": []
    },
    {
      "cell_type": "markdown",
      "source": [
        "### Cumulative without Losses"
      ],
      "metadata": {
        "id": "BgKcyR5IM05s"
      }
    },
    {
      "cell_type": "code",
      "source": [
        "# P_usable = 1 / 30 * \\int^{30}_{0} 0.13 * (dhout + (h_95C - h_120C) * mpro) dt\n",
        "P_usable_cum_dict = pd.DataFrame(columns=['pin', 'P_usable_cum'])\n",
        "\n",
        "for index, row in inputs_results_main30yr_P_usable.iterrows():\n",
        "  P_usable_cum = 0\n",
        "  for time_step in range(0,3000,25):\n",
        "    P_usable_cum += row['P_usable'+f':{time_step/100:,.3f}']\n",
        "  P_usable_cum_dict = P_usable_cum_dict.append({'pin': row['pin'], 'P_usable_cum': P_usable_cum / 30}, ignore_index=True)\n",
        "\n",
        "P_usable_cum_dict.head(3)\n"
      ],
      "metadata": {
        "id": "2-i77o0asGra"
      },
      "execution_count": null,
      "outputs": []
    },
    {
      "cell_type": "code",
      "source": [
        "inputs_results_main30yr_P_usable = pd.merge(inputs_results_main30yr_P_usable, P_usable_cum_dict, on='pin')\n",
        "inputs_results_main30yr_P_usable.head(3)\n"
      ],
      "metadata": {
        "id": "vXsvPQ5xfoax"
      },
      "execution_count": null,
      "outputs": []
    },
    {
      "cell_type": "code",
      "source": [
        "# plot top-5 valid high-performance simulations by calculated amount of enthalpy (cumulated)\n",
        "\n",
        "inputs_results_main30yr_P_usable_cum_valid = inputs_results_main30yr_P_usable[inputs_results_main30yr_P_usable['pin'].isin(valid_pins)]\n",
        "top5_P_usable_cum_valid = inputs_results_main30yr_P_usable_cum_valid.sort_values(by='P_usable_cum', ascending=False).head(5)\n",
        "\n",
        "for time_step in range(0,3000,25):\n",
        "  sns.scatterplot(data=top5_P_usable_cum_valid, x=time_step/100, y=top5_P_usable_cum_valid['P_usable'+f':{time_step/100:,.3f}'], hue=top5_P_usable_cum_valid['pin'], legend=False)\n",
        "\n",
        "plt.ylabel('P_usable')\n",
        "plt.show()\n",
        "\n",
        "print('Top-5 high-performance simulation: ', top5_P_usable_cum_valid['pin'])\n"
      ],
      "metadata": {
        "id": "nZW47lVElakZ"
      },
      "execution_count": null,
      "outputs": []
    },
    {
      "cell_type": "code",
      "source": [
        "# plot high-performance simulation by calculated amount of enthalpy\n",
        "\n",
        "top_P_usable_cum_valid_high = top5_P_usable_cum_valid.head(1)\n",
        "\n",
        "for time_step in range(0,3000,25):\n",
        "  sns.scatterplot(data=top_P_usable_cum_valid_high, x=time_step/100, y=top_P_usable_cum_valid_high['P_usable'+f':{time_step/100:,.3f}'], hue=top_P_usable_cum_valid_high['pin'], legend=False)\n",
        "\n",
        "plt.ylabel('P_usable')\n",
        "plt.show()\n",
        "\n",
        "print('High-performance simulation: ', top_P_usable_cum_valid_high['pin'])\n"
      ],
      "metadata": {
        "id": "MXpJ7B_KXOWA"
      },
      "execution_count": null,
      "outputs": []
    },
    {
      "cell_type": "code",
      "source": [
        "# plot bottom-5 valid low-performance simulations by calculated amount of enthalpy (cumulated)\n",
        "btm5_P_usable_cum_valid = inputs_results_main30yr_P_usable_cum_valid.sort_values(by='P_usable_cum', ascending=False).tail(5)\n",
        "\n",
        "for time_step in range(0,3000,25):\n",
        "  sns.scatterplot(data=btm5_P_usable_cum_valid, x=time_step/100, y=btm5_P_usable_cum_valid['P_usable'+f':{time_step/100:,.3f}'], hue=btm5_P_usable_cum_valid['pin'], legend=False)\n",
        "\n",
        "plt.ylabel('P_usable')\n",
        "plt.show()\n",
        "\n",
        "print('Bottom-5 low-performance simulation: ', btm5_P_usable_cum_valid['pin'])\n"
      ],
      "metadata": {
        "id": "9Fg8aCO8WkHe"
      },
      "execution_count": null,
      "outputs": []
    },
    {
      "cell_type": "code",
      "source": [
        "# plot low-performance simulation by calculated amount of enthalpy\n",
        "\n",
        "btm_P_usable_cum_valid_low = btm5_P_usable_cum_valid.tail(1)\n",
        "\n",
        "for time_step in range(0,3000,25):\n",
        "  sns.scatterplot(data=btm_P_usable_cum_valid_low, x=time_step/100, y=btm_P_usable_cum_valid_low['P_usable'+f':{time_step/100:,.3f}'], hue=btm_P_usable_cum_valid_low['pin'], legend=False)\n",
        "\n",
        "plt.ylabel('P_usable')\n",
        "plt.show()\n",
        "\n",
        "print('Low performance simulation: ', btm_P_usable_cum_valid_low['pin'])\n"
      ],
      "metadata": {
        "id": "fCh8dixhX43F"
      },
      "execution_count": null,
      "outputs": []
    },
    {
      "cell_type": "code",
      "source": [
        "print('High performance simulation well spacing: ', list(inputs_results_main30yr[inputs_results_main30yr['pin'] == 299774151]['w_spacing']))\n",
        "print('Low performance simulation well spacing: ', list(inputs_results_main30yr[inputs_results_main30yr['pin'] == 374070519]['w_spacing']))\n"
      ],
      "metadata": {
        "id": "JK6pHS0lXD9M"
      },
      "execution_count": null,
      "outputs": []
    },
    {
      "cell_type": "markdown",
      "source": [
        "### Timeseries with Losses"
      ],
      "metadata": {
        "id": "wd68hOcXM5xv"
      }
    },
    {
      "cell_type": "code",
      "source": [
        "# P_usable = 0.13 * (dhout + (h_95C - h_120C - v5 * (Pinj - Pwhp)) * mpro)\n",
        "inputs_results_main30yr_P_usable_loss = inputs_results_main30yr_P_usable.copy()\n",
        "\n",
        "for time_step in range(0,3000,25):\n",
        "  inputs_results_main30yr_P_usable_loss['P_usable_loss'+f':{time_step/100:,.3f}'] =\\\n",
        "  0.13 * (inputs_results_main30yr_P_usable_loss['dhout'+f':{time_step/100:,.3f}'] +\\\n",
        "          (h_95C - h_120C - inputs_results_main30yr_P_usable_loss['v5'] *\\\n",
        "           abs(inputs_results_main30yr_P_usable_loss['pinj'] -\\\n",
        "            inputs_results_main30yr_P_usable_loss['p_whp'])) *\\\n",
        "          inputs_results_main30yr_P_usable_loss['mpro'])\n",
        "\n",
        "inputs_results_main30yr_P_usable_loss.head(3)"
      ],
      "metadata": {
        "id": "sDO_ZCaB_FVB"
      },
      "execution_count": null,
      "outputs": []
    },
    {
      "cell_type": "code",
      "source": [
        "# plot top-5 simulations by calculated amount of enthalpy (with losses)\n",
        "cols_p_usable = [c for c in inputs_results_main30yr_P_usable_loss.columns if c[:4] == 'pin' or c[:13] == 'P_usable_loss']\n",
        "inputs_results_main30yr_P_usable_loss_x = inputs_results_main30yr_P_usable_loss[cols_p_usable]\n",
        "top5 = inputs_results_main30yr_P_usable_loss_x.sort_values(by=inputs_results_main30yr_P_usable_loss_x.columns[-1], ascending=False).head(5)\n",
        "\n",
        "for time_step in range(0,3000,25):\n",
        "  sns.scatterplot(data=top5, x=time_step/100, y=top5['P_usable_loss'+f':{time_step/100:,.3f}'], hue=top5['pin'], legend=False)\n",
        "\n",
        "plt.ylabel('P_usable_loss')\n",
        "plt.show()\n"
      ],
      "metadata": {
        "id": "APdg6AyMDbQr"
      },
      "execution_count": null,
      "outputs": []
    },
    {
      "cell_type": "code",
      "source": [
        "# see the number of calculated amount of enthalpy (with losses) simulations with all-time unchanged data\n",
        "duplicates = 20\n",
        "\n",
        "valid_pins = []\n",
        "for index, row in inputs_results_main30yr_P_usable_loss_x.iterrows():\n",
        "  if row.nunique() > len(row)-duplicates and row[-1] > 0: # and row[1] > 100:\n",
        "    valid_pins.append(row[0])\n",
        "  else:\n",
        "    pass\n",
        "len(valid_pins)\n"
      ],
      "metadata": {
        "id": "3hPQRlOaFXoZ"
      },
      "execution_count": null,
      "outputs": []
    },
    {
      "cell_type": "code",
      "source": [
        "# plot top-5 valid high-performance simulations by calculated amount of enthalpy (with losses)\n",
        "inputs_results_main30yr_P_usable_loss_valid = inputs_results_main30yr_P_usable_loss[inputs_results_main30yr_P_usable_loss['pin'].isin(valid_pins)]\n",
        "top5_P_usable_loss_valid = inputs_results_main30yr_P_usable_loss_valid.sort_values(by=inputs_results_main30yr_P_usable_loss_valid.columns[-1], ascending=False).head(5)\n",
        "\n",
        "for time_step in range(0,3000,25):\n",
        "  sns.scatterplot(data=top5_P_usable_loss_valid, x=time_step/100, y=top5_P_usable_loss_valid['P_usable_loss'+f':{time_step/100:,.3f}'], hue=top5_P_usable_loss_valid['pin'], legend=False)\n",
        "\n",
        "plt.ylabel('P_usable_loss')\n",
        "plt.show()\n",
        "\n",
        "print('Top-5 high-performance simulation: ', top5_P_usable_loss_valid['pin'])\n"
      ],
      "metadata": {
        "id": "4ooKu4rhFsmU"
      },
      "execution_count": null,
      "outputs": []
    },
    {
      "cell_type": "code",
      "source": [
        "# plot high-performance simulation by calculated amount of enthalpy (with losses)\n",
        "\n",
        "top_P_usable_loss_valid_high = inputs_results_main30yr_P_usable_loss_valid.sort_values(by=inputs_results_main30yr_P_usable_loss_valid.columns[-1], ascending=False).head(1)\n",
        "\n",
        "for time_step in range(0,3000,25):\n",
        "  sns.scatterplot(data=top_P_usable_loss_valid_high, x=time_step/100, y=top_P_usable_loss_valid_high['P_usable_loss'+f':{time_step/100:,.3f}'], hue=top_P_usable_loss_valid_high['pin'], legend=False)\n",
        "\n",
        "plt.ylabel('P_usable_loss')\n",
        "plt.show()\n",
        "\n",
        "print('High-performance simulation: ', top_P_usable_loss_valid_high['pin'])\n"
      ],
      "metadata": {
        "id": "dhHUnLw1NXsK"
      },
      "execution_count": null,
      "outputs": []
    },
    {
      "cell_type": "code",
      "source": [
        "# plot bottom-5 valid low-performance simulations by calculated amount of enthalpy (with losses)\n",
        "\n",
        "inputs_results_main30yr_P_usable_loss_valid = inputs_results_main30yr_P_usable_loss[inputs_results_main30yr_P_usable_loss['pin'].isin(valid_pins)]\n",
        "btm5_P_usable_loss_valid = inputs_results_main30yr_P_usable_loss_valid.sort_values(by=inputs_results_main30yr_P_usable_loss_valid.columns[-1], ascending=False).tail(5)\n",
        "\n",
        "for time_step in range(0,3000,25):\n",
        "  sns.scatterplot(data=btm5_P_usable_loss_valid, x=time_step/100, y=btm5_P_usable_loss_valid['P_usable_loss'+f':{time_step/100:,.3f}'], hue=btm5_P_usable_loss_valid['pin'], legend=False)\n",
        "\n",
        "plt.ylabel('P_usable_loss')\n",
        "plt.show()\n",
        "\n",
        "print('Bottom-5 low-performance simulation: ', btm5_P_usable_loss_valid['pin'])\n"
      ],
      "metadata": {
        "id": "7O13lTvSR94L"
      },
      "execution_count": null,
      "outputs": []
    },
    {
      "cell_type": "code",
      "source": [
        "# plot low-performance simulation by calculated amount of enthalpy (with losses)\n",
        "\n",
        "btm_P_usable_loss_valid_low = inputs_results_main30yr_P_usable_loss_valid.sort_values(by=inputs_results_main30yr_P_usable_loss_valid.columns[-1], ascending=False).tail(1)\n",
        "\n",
        "for time_step in range(0,3000,25):\n",
        "  sns.scatterplot(data=btm_P_usable_loss_valid_low, x=time_step/100, y=btm_P_usable_loss_valid_low['P_usable_loss'+f':{time_step/100:,.3f}'], hue=btm_P_usable_loss_valid_low['pin'], legend=False)\n",
        "\n",
        "plt.ylabel('P_usable_loss')\n",
        "plt.show()\n",
        "\n",
        "print('Low performance simulation: ', btm_P_usable_loss_valid_low['pin'])\n"
      ],
      "metadata": {
        "id": "qVzswlxXSTns"
      },
      "execution_count": null,
      "outputs": []
    },
    {
      "cell_type": "code",
      "source": [
        "print('High performance simulation well spacing: ', list(inputs_results_main30yr[inputs_results_main30yr['pin'] == 299774151]['w_spacing']))\n",
        "print('Low performance simulation well spacing: ', list(inputs_results_main30yr[inputs_results_main30yr['pin'] == 569132087]['w_spacing']))\n"
      ],
      "metadata": {
        "id": "MgxSCMBnSX8q"
      },
      "execution_count": null,
      "outputs": []
    },
    {
      "cell_type": "code",
      "source": [
        "f, ax = plt.subplots(figsize=(15,5))\n",
        "\n",
        "sns.histplot(inputs_results_main30yr_P_usable_loss['P_usable_cum'], ax=ax)\n",
        "\n",
        "plt.axvline(3000, c='r')\n",
        "plt.axvline(10000, c='r')\n",
        "plt.axvline(50000, c='r')\n",
        "plt.xlim(0, 100000)\n",
        "plt.show()\n"
      ],
      "metadata": {
        "id": "IGiVopoFbBsF"
      },
      "execution_count": null,
      "outputs": []
    },
    {
      "cell_type": "code",
      "source": [
        "f, ax = plt.subplots(1,2,figsize=(15,5))\n",
        "sns.histplot(inputs_results_main30yr_P_usable_loss[abs(inputs_results_main30yr_P_usable_loss['P_usable_cum']) < 20000]['w_spacing'], ax=ax[0])\n",
        "sns.boxplot(inputs_results_main30yr_P_usable_loss[abs(inputs_results_main30yr_P_usable_loss['P_usable_cum']) < 20000]['w_spacing'], ax=ax[1])\n",
        "\n",
        "plt.show()\n"
      ],
      "metadata": {
        "id": "wF12XKIndVz7"
      },
      "execution_count": null,
      "outputs": []
    },
    {
      "cell_type": "code",
      "source": [
        "P_usable_cat1 = inputs_results_main30yr_P_usable_loss[inputs_results_main30yr_P_usable_loss['P_usable_cum'] < 3000]\n",
        "P_usable_cat2 = inputs_results_main30yr_P_usable_loss[inputs_results_main30yr_P_usable_loss['P_usable_cum'].between(3000, 10000)]\n",
        "P_usable_cat3 = inputs_results_main30yr_P_usable_loss[inputs_results_main30yr_P_usable_loss['P_usable_cum'].between(10000, 50000)]\n",
        "P_usable_cat4 = inputs_results_main30yr_P_usable_loss[inputs_results_main30yr_P_usable_loss['P_usable_cum'] > 50000]\n",
        "\n",
        "f, ax = plt.subplots(1, 2, figsize=(15,5))\n",
        "sns.boxplot(data=pd.DataFrame({'<3000 kJ/s': P_usable_cat1['w_spacing'], '3000-10000 kJ/s': P_usable_cat2['w_spacing'],\\\n",
        "                               '10000-50000 kJ/s': P_usable_cat3['w_spacing'], '>50000 kJ/s': P_usable_cat4['w_spacing']}), ax=ax[0])\n",
        "sns.histplot(data=pd.DataFrame({'<3000 kJ/s': P_usable_cat1['w_spacing'], '3000-10000 kJ/s': P_usable_cat2['w_spacing'],\\\n",
        "                               '10000-50000 kJ/s': P_usable_cat3['w_spacing'], '>50000 kJ/s': P_usable_cat4['w_spacing']}), multiple='stack', ax=ax[1])\n",
        "ax[0].set(xlabel='P_usable_cum', ylabel='w_spacing')\n",
        "ax[1].set(xlabel='w_spacing')\n",
        "\n",
        "plt.show()\n"
      ],
      "metadata": {
        "id": "OBT9Nu3WkLc-"
      },
      "execution_count": null,
      "outputs": []
    },
    {
      "cell_type": "code",
      "source": [
        "f, ax = plt.subplots(1, 2, figsize=(15,5))\n",
        "sns.boxplot(data=pd.DataFrame({'<3000 kJ/s': P_usable_cat1['w_phase'], '3000-10000 kJ/s': P_usable_cat2['w_phase'],\\\n",
        "                               '10000-50000 kJ/s': P_usable_cat3['w_phase'], '>50000 kJ/s': P_usable_cat4['w_phase']}), ax=ax[0])\n",
        "sns.histplot(data=pd.DataFrame({'<3000 kJ/s': P_usable_cat1['w_phase'], '3000-10000 kJ/s': P_usable_cat2['w_phase'],\\\n",
        "                               '10000-50000 kJ/s': P_usable_cat3['w_phase'], '>50000 kJ/s': P_usable_cat4['w_phase']}), multiple='stack', ax=ax[1])\n",
        "ax[0].set(xlabel='P_usable_cum', ylabel='w_phase')\n",
        "ax[1].set(xlabel='w_phase')\n",
        "\n",
        "plt.show()\n"
      ],
      "metadata": {
        "id": "s1xe19x3vl1e"
      },
      "execution_count": null,
      "outputs": []
    },
    {
      "cell_type": "code",
      "source": [
        "f, ax = plt.subplots(1, 2, figsize=(15,5))\n",
        "sns.boxplot(data=pd.DataFrame({'<3000 kJ/s': P_usable_cat1['w_skew'], '3000-10000 kJ/s': P_usable_cat2['w_skew'],\\\n",
        "                               '10000-50000 kJ/s': P_usable_cat3['w_skew'], '>50000 kJ/s': P_usable_cat4['w_skew']}), ax=ax[0])\n",
        "sns.histplot(data=pd.DataFrame({'<3000 kJ/s': P_usable_cat1['w_skew'], '3000-10000 kJ/s': P_usable_cat2['w_skew'],\\\n",
        "                               '10000-50000 kJ/s': P_usable_cat3['w_skew'], '>50000 kJ/s': P_usable_cat4['w_skew']}), multiple='stack', ax=ax[1])\n",
        "ax[0].set(xlabel='P_usable_cum', ylabel='w_skew')\n",
        "ax[1].set(xlabel='w_skew')\n",
        "\n",
        "plt.show()\n"
      ],
      "metadata": {
        "id": "2sB8HUm70F0f"
      },
      "execution_count": null,
      "outputs": []
    },
    {
      "cell_type": "markdown",
      "source": [
        "# Boosting algorithm application"
      ],
      "metadata": {
        "id": "-1NJ8lGs4_Nj"
      }
    },
    {
      "cell_type": "code",
      "source": [
        "P_usable_cat1['P_usable_cum_cat'] = 1\n",
        "P_usable_cat2['P_usable_cum_cat'] = 2\n",
        "P_usable_cat3['P_usable_cum_cat'] = 3\n",
        "P_usable_cat4['P_usable_cum_cat'] = 4\n",
        "\n",
        "P_usable_cat1_2 = P_usable_cat1.append(P_usable_cat2)\n",
        "P_usable_cat3_4 = P_usable_cat3.append(P_usable_cat4)\n",
        "\n",
        "inputs_results_main30yr_P_usable_loss_cat = P_usable_cat1_2.append(P_usable_cat3_4).sort_index()\n"
      ],
      "metadata": {
        "id": "oxiaH_MNARbn"
      },
      "execution_count": null,
      "outputs": []
    },
    {
      "cell_type": "markdown",
      "source": [
        "Pusable  - amount of enthalpy, kJ/s\n",
        "dhout  - enthalpy-rate change from injection to production, kJ/s\n",
        "h95C,h120C  - reference enthalpies (calculated), kJ/kg\n",
        "v5  - specific volume (thermodynamic term), m3/kg\n",
        "Pinj  - pressure of injected fluid, MPa (x103 kJ/m3)\n",
        "Pwhp  - power plant inlet pressure, MPa (x103 kJ/m3)\n",
        "mpro  - production mass flowrate, kg/s"
      ],
      "metadata": {
        "id": "_Urg6t1hDRIL"
      }
    },
    {
      "cell_type": "code",
      "source": [
        "# Prepare the data. Remove objective function components and timeseries\n",
        "X = inputs_results_main30yr_P_usable_loss_cat.copy()\n",
        "\n",
        "for time_step in range(0,3000,25):\n",
        "  X.drop(columns={'Pout'+f':{time_step/100:,.3f}', 'dhout'+f':{time_step/100:,.3f}',\\\n",
        "                  'hpro'+f':{time_step/100:,.3f}', 'P_usable'+f':{time_step/100:,.3f}',\\\n",
        "                  'P_usable_loss'+f':{time_step/100:,.3f}'}, inplace=True)\n",
        "  \n",
        "X.drop(columns={'v5', 'pinj', 'p_whp', 'mpro', 'P_usable_cum', 'P_usable_cum_cat'}, inplace=True)\n",
        "y = inputs_results_main30yr_P_usable_loss_cat['P_usable_cum_cat']\n",
        "\n",
        "X_train, X_valid, y_train, y_valid = train_test_split(X, y, test_size=0.2,\n",
        "                                                      random_state=rnd_state)\n",
        "print(X_train.shape)\n",
        "print(X_valid.shape)\n",
        "print(y_train.shape)\n",
        "print(y_valid.shape)\n"
      ],
      "metadata": {
        "id": "OhbWun4LG2UP"
      },
      "execution_count": null,
      "outputs": []
    },
    {
      "cell_type": "code",
      "source": [
        "model_cbc = CatBoostClassifier(\n",
        "    iterations=100,\n",
        "    random_seed=rnd_state,\n",
        "    learning_rate=0.2)\n"
      ],
      "metadata": {
        "id": "WV06cPI_AR_v"
      },
      "execution_count": null,
      "outputs": []
    },
    {
      "cell_type": "code",
      "source": [
        "%%time\n",
        "start = time.time()\n",
        "model_cbc.fit(\n",
        "    X_train, y_train,\n",
        "    eval_set=(X_valid, y_valid),\n",
        "    verbose=False,\n",
        "    plot=True)\n",
        "end = time.time()\n",
        "catboost_time = end - start\n"
      ],
      "metadata": {
        "id": "Hq4UCU06B0_U"
      },
      "execution_count": null,
      "outputs": []
    },
    {
      "cell_type": "code",
      "source": [
        "start = time.time()\n",
        "y_pred = model_cbc.predict(X_valid)\n",
        "end = time.time()\n",
        "catboost_time_predicting = end - start\n",
        "\n",
        "print('Score: ', f1_score(y_valid, y_pred, average='macro'))\n",
        "print('Learning time: ', catboost_time)\n",
        "print('Prediction time: ', catboost_time_predicting)\n"
      ],
      "metadata": {
        "id": "mHlP2YUmB36q"
      },
      "execution_count": null,
      "outputs": []
    },
    {
      "cell_type": "code",
      "source": [
        "feature_importance = model_cbc.feature_importances_\n",
        "sorted_idx = np.argsort(feature_importance)\n",
        "\n",
        "fig = plt.figure(figsize=(8, 20))\n",
        "\n",
        "plt.barh(range(len(sorted_idx)), feature_importance[sorted_idx], align='center')\n",
        "plt.yticks(range(len(sorted_idx)), np.array(X_valid.columns)[sorted_idx])\n",
        "plt.title('Feature Importance')\n",
        "\n",
        "print(np.array(X_valid.columns)[sorted_idx][:-15:-1])\n"
      ],
      "metadata": {
        "id": "Dg_MbDHGIvUl"
      },
      "execution_count": null,
      "outputs": []
    },
    {
      "cell_type": "code",
      "source": [
        "feature_importance[sorted_idx][feature_importance[sorted_idx] > 1]"
      ],
      "metadata": {
        "id": "EXnXC8MdEQdt"
      },
      "execution_count": null,
      "outputs": []
    },
    {
      "cell_type": "code",
      "source": [
        "base_params = np.array(X_valid.columns)[sorted_idx][:-15:-1].tolist()\n",
        "base_params.append(inputs_results_main30yr_P_usable_loss_cat.columns[-1])\n",
        "inputs_results_main30yr_P_usable_loss_cat[base_params].groupby('P_usable_cum_cat').mean()\n"
      ],
      "metadata": {
        "id": "1iw66sYbG1tY"
      },
      "execution_count": null,
      "outputs": []
    },
    {
      "cell_type": "code",
      "source": [
        "def base_params_plots(param, title, xlim_hist, ylim_hist, ylim):\n",
        "  f, ax = plt.subplots(1, 2, figsize=(15,5))\n",
        "  sns.boxplot(data=pd.DataFrame({'<3000 kJ/s': P_usable_cat1[param], '3000-10000 kJ/s': P_usable_cat2[param],\\\n",
        "                                  '10000-50000 kJ/s': P_usable_cat3[param], '>50000 kJ/s': P_usable_cat4[param]}), ax=ax[0])\n",
        "  sns.histplot(data=pd.DataFrame({'<3000 kJ/s': P_usable_cat1[param], '3000-10000 kJ/s': P_usable_cat2[param],\\\n",
        "                                  '10000-50000 kJ/s': P_usable_cat3[param], '>50000 kJ/s': P_usable_cat4[param]}), multiple='stack', ax=ax[1])\n",
        "  ax[0].set(xlabel='P_usable_cum', ylabel=param, ylim=ylim, title=title)\n",
        "  ax[1].set(xlabel=param, xlim=xlim_hist, ylim=ylim_hist, title=title)\n",
        "\n",
        "  plt.show()\n"
      ],
      "metadata": {
        "id": "xmrEXyG5QuDN"
      },
      "execution_count": null,
      "outputs": []
    },
    {
      "cell_type": "code",
      "source": [
        "base_params_plots('qpro', title='Cumulative production rate, m3/s', xlim_hist=(-0.3, 0), ylim_hist=None, ylim=(-0.5, 0.1))\n",
        "base_params_plots('recovery', title='Production rate/Injection rate ratio', xlim_hist=(-7, 2), ylim_hist=(0, 500), ylim=(-7, 2))\n",
        "base_params_plots('w_spacing', title='Well spacing, m', xlim_hist=None, ylim_hist=None, ylim=None)\n",
        "base_params_plots('qleak', title=' Boundary outflow rate, m3/s', xlim_hist=(-0.2, 0.1), ylim_hist=(0, 500), ylim=(-0.2, 0.1))\n",
        "base_params_plots('r_perf', title='Perforation radus, m', xlim_hist=None, ylim_hist=None, ylim=None)\n",
        "base_params_plots('nfstim', title='Number of stimulated natural fractures', xlim_hist=(0, 9), ylim_hist=None, ylim=(0, 9))\n",
        "base_params_plots('dia_last', title='Final diameter of freshest fracture, m', xlim_hist=(0, 9000), ylim_hist=None, ylim=(0, 9000))\n",
        "base_params_plots('hinj', title='Enthalpy of injected fluid, kJ/kg', xlim_hist=None, ylim_hist=None, ylim=None)\n",
        "base_params_plots('Qinj', title='Circulation flow rate, m3/s', xlim_hist=None, ylim_hist=None, ylim=None)\n",
        "base_params_plots('ixint', title='Number of fractures intercepting injectors', xlim_hist=None, ylim_hist=None, ylim=None)\n",
        "base_params_plots('Tinj', title='Injection temperature, degC', xlim_hist=None, ylim_hist=None, ylim=None)\n",
        "base_params_plots('Vinj', title='Injection volume, m3', xlim_hist=None, ylim_hist=None, ylim=None)\n",
        "base_params_plots('hfstim', title='Number of stimulated hydraulic fractures', xlim_hist=None, ylim_hist=None, ylim=None)\n"
      ],
      "metadata": {
        "id": "GEgw3lA7SaC5"
      },
      "execution_count": null,
      "outputs": []
    },
    {
      "cell_type": "markdown",
      "source": [
        "### Next steps:\n",
        "* try categories by P_usable\n",
        "* try categories by P_usable_loss\n",
        "* try categories by P_out\n",
        "* hist/bp in P_usable_cat, P_usable_loss_cut, P_out_cat\n"
      ],
      "metadata": {
        "id": "DEsutuM8Mo42"
      }
    }
  ]
}
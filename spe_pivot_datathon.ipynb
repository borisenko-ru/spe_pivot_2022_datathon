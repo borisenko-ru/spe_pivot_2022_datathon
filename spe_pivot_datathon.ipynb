{
  "nbformat": 4,
  "nbformat_minor": 0,
  "metadata": {
    "colab": {
      "name": "spe_pivot_datathon.ipynb",
      "provenance": [],
      "machine_shape": "hm",
      "authorship_tag": "ABX9TyP4cDc3j/nvF+wG4Qz/uzK6"
    },
    "kernelspec": {
      "name": "python3",
      "display_name": "Python 3"
    },
    "language_info": {
      "name": "python"
    },
    "accelerator": "GPU",
    "gpuClass": "standard"
  },
  "cells": [
    {
      "cell_type": "markdown",
      "source": [
        "<a href=\"https://colab.research.google.com/github/borisenko-ru/spe_pivot_2022_datathon/blob/main/spe_pivot_datathon.ipynb\" target=\"_parent\"><img src=\"https://colab.research.google.com/assets/colab-badge.svg\" alt=\"Open In Colab\"/></a>\n",
        "[![nbviewer](https://raw.githubusercontent.com/jupyter/design/master/logos/Badges/nbviewer_badge.svg)](https://nbviewer.org/github/borisenko-ru/spe_pivot_2022_datathon/blob/main/spe_pivot_datathon.ipynb)\n"
      ],
      "metadata": {
        "id": "QN4Uj2_WVgNs"
      }
    },
    {
      "cell_type": "markdown",
      "source": [
        "# SPE PIVOT 2022 Geothermal Datathon\n"
      ],
      "metadata": {
        "id": "KZF9onpxo4Zj"
      }
    },
    {
      "cell_type": "code",
      "source": [
        "!pip install catboost"
      ],
      "metadata": {
        "id": "NRmJOTZdeo-0",
        "outputId": "f354f40b-8d5f-4cc9-b127-3438a567fbd2",
        "colab": {
          "base_uri": "https://localhost:8080/"
        }
      },
      "execution_count": 254,
      "outputs": [
        {
          "output_type": "stream",
          "name": "stdout",
          "text": [
            "Looking in indexes: https://pypi.org/simple, https://us-python.pkg.dev/colab-wheels/public/simple/\n",
            "Requirement already satisfied: catboost in /usr/local/lib/python3.7/dist-packages (1.0.6)\n",
            "Requirement already satisfied: six in /usr/local/lib/python3.7/dist-packages (from catboost) (1.15.0)\n",
            "Requirement already satisfied: plotly in /usr/local/lib/python3.7/dist-packages (from catboost) (5.5.0)\n",
            "Requirement already satisfied: pandas>=0.24.0 in /usr/local/lib/python3.7/dist-packages (from catboost) (1.3.5)\n",
            "Requirement already satisfied: scipy in /usr/local/lib/python3.7/dist-packages (from catboost) (1.7.3)\n",
            "Requirement already satisfied: numpy>=1.16.0 in /usr/local/lib/python3.7/dist-packages (from catboost) (1.21.6)\n",
            "Requirement already satisfied: matplotlib in /usr/local/lib/python3.7/dist-packages (from catboost) (3.2.2)\n",
            "Requirement already satisfied: graphviz in /usr/local/lib/python3.7/dist-packages (from catboost) (0.10.1)\n",
            "Requirement already satisfied: pytz>=2017.3 in /usr/local/lib/python3.7/dist-packages (from pandas>=0.24.0->catboost) (2022.1)\n",
            "Requirement already satisfied: python-dateutil>=2.7.3 in /usr/local/lib/python3.7/dist-packages (from pandas>=0.24.0->catboost) (2.8.2)\n",
            "Requirement already satisfied: pyparsing!=2.0.4,!=2.1.2,!=2.1.6,>=2.0.1 in /usr/local/lib/python3.7/dist-packages (from matplotlib->catboost) (3.0.9)\n",
            "Requirement already satisfied: kiwisolver>=1.0.1 in /usr/local/lib/python3.7/dist-packages (from matplotlib->catboost) (1.4.4)\n",
            "Requirement already satisfied: cycler>=0.10 in /usr/local/lib/python3.7/dist-packages (from matplotlib->catboost) (0.11.0)\n",
            "Requirement already satisfied: typing-extensions in /usr/local/lib/python3.7/dist-packages (from kiwisolver>=1.0.1->matplotlib->catboost) (4.1.1)\n",
            "Requirement already satisfied: tenacity>=6.2.0 in /usr/local/lib/python3.7/dist-packages (from plotly->catboost) (8.0.1)\n"
          ]
        }
      ]
    },
    {
      "cell_type": "code",
      "execution_count": 255,
      "metadata": {
        "id": "l15KpnTmuMZr",
        "colab": {
          "base_uri": "https://localhost:8080/"
        },
        "outputId": "fa5029e7-b6ad-4dbf-c8b2-f3694cba8367"
      },
      "outputs": [
        {
          "output_type": "stream",
          "name": "stdout",
          "text": [
            "Drive already mounted at /content/gdrive; to attempt to forcibly remount, call drive.mount(\"/content/gdrive\", force_remount=True).\n"
          ]
        }
      ],
      "source": [
        "import pandas as pd\n",
        "import numpy as np\n",
        "import seaborn as sns\n",
        "import catboost\n",
        "import time\n",
        "\n",
        "from matplotlib import pyplot as plt\n",
        "from sklearn.model_selection import train_test_split\n",
        "from sklearn.metrics import f1_score\n",
        "from catboost import CatBoostClassifier\n",
        "from scipy import integrate\n",
        "from google.colab import output\n",
        "output.enable_custom_widget_manager()\n",
        "from google.colab import drive\n",
        "drive.mount('/content/gdrive')\n",
        "\n",
        "import warnings\n",
        "warnings.filterwarnings(\"ignore\")\n",
        "rnd_state = 13\n"
      ]
    },
    {
      "cell_type": "code",
      "source": [
        "%cd /content/gdrive/My Drive/Colab Notebooks\n"
      ],
      "metadata": {
        "colab": {
          "base_uri": "https://localhost:8080/"
        },
        "id": "PEAv2uvpuUz8",
        "outputId": "4efc009e-24d2-4706-b909-d0cb6890fd28"
      },
      "execution_count": 256,
      "outputs": [
        {
          "output_type": "stream",
          "name": "stdout",
          "text": [
            "/content/gdrive/My Drive/Colab Notebooks\n"
          ]
        }
      ]
    },
    {
      "cell_type": "code",
      "source": [
        "def base_params_plots(param, title, xlim_hist, ylim_hist, ylim):\n",
        "  f, ax = plt.subplots(1, 2, figsize=(15,5))\n",
        "  sns.boxplot(data=pd.DataFrame({'<3000 kJ/s': P_usable_cat1[param], '3000-10000 kJ/s': P_usable_cat2[param],\\\n",
        "                                  '10000-50000 kJ/s': P_usable_cat3[param], '>50000 kJ/s': P_usable_cat4[param]}), ax=ax[0])\n",
        "  sns.histplot(data=pd.DataFrame({'<3000 kJ/s': P_usable_cat1[param], '3000-10000 kJ/s': P_usable_cat2[param],\\\n",
        "                                  '10000-50000 kJ/s': P_usable_cat3[param], '>50000 kJ/s': P_usable_cat4[param]}), multiple='stack', ax=ax[1])\n",
        "  ax[0].set(xlabel='P_usable_cum', ylabel=param, ylim=ylim, title=title)\n",
        "  ax[1].set(xlabel=param, xlim=xlim_hist, ylim=ylim_hist, title=title)\n",
        "\n",
        "  plt.show()\n"
      ],
      "metadata": {
        "id": "V-84omP-Ylfg"
      },
      "execution_count": 257,
      "outputs": []
    },
    {
      "cell_type": "code",
      "source": [
        "inputs_results_main30yr = pd.read_csv('datasets/inputs_results_FORGE_main30yr.csv')\n"
      ],
      "metadata": {
        "id": "QhFfUN9iuW3w"
      },
      "execution_count": 258,
      "outputs": []
    },
    {
      "cell_type": "markdown",
      "source": [
        "### Dataset structure\n",
        "INPUTS:\n",
        "*\t<b>\ta\t-\tShear displacement-dilation coefficient\t</b>\tm/m\tScaling\n",
        "*\t<b>\talpha\t-\tFracture compressibility\t</b>\t1/MPa\tScaling\n",
        "*\t<b>\tAmbPres\t-\tAmbient surface pressure\t</b>\tMPa\tSite\n",
        "*\t<b>\tAmbTempC\t-\tAmbient surface temperature\t</b>\tC\tSite\n",
        "*\t<b>\tb\t-\tShear displacement-dilation exponent\t</b>\t-\tScaling\n",
        "*\t<b>\tbh\t-\tDefault hydraulic aperture\t</b>\tm\tScaling\n",
        "*\t<b>\tbh_bound\t-\tBoundary hydraulic aperture\t</b>\tm\tSite\n",
        "*\t<b>\tbh_max\t-\tMaximum hydraulic aperture\t</b>\tm\tSolver Setup\n",
        "*\t<b>\tbh_min\t-\tMinimum hydraulic aperture\t</b>\tm\tSolver Setup\n",
        "*\t<b>\tBH_P\t-\tReservoir pore pressure\t</b>\tMPa\tSite\n",
        "*\t<b>\tBH_T\t-\tReservoir temperature\t</b>\tR\tSite\n",
        "*\t<b>\tbval\t-\tb-value (Gutenberg Richter)\t</b>\t\tSolver Setup\n",
        "*\t<b>\tCemKt\t-\tCement thermal conductivity\t</b>\tW/mK\tWell\n",
        "*\t<b>\tCemSv\t-\tCement volumetric specific heat capacity\t</b>\tkJ/m3K\tWell\n",
        "*\t<b>\tdE0\t-\tInitial thermal energy withdraw\t</b>\tkJ/m2\tSolver Setup\n",
        "*\t<b>\tdPi\t-\tPressure increment\t</b>\tMPa\tSolver Setup\n",
        "*\t<b>\tdPp\t-\tProduction well pressure rise\t</b>\tMPa\tWell\n",
        "*\t<b>\tdT0\t-\tInitial temperature gradient\t</b>\tK\tSolver Setup\n",
        "*\t<b>\tf_roughness\t-\tFracture roughness\t</b>\t-\tScaling\n",
        "*\t<b>\tfDia\t-\tFracture set 1 diameter\t</b>\tm\tFracture\n",
        "*\t<b>\tfDia\t-\tFracture set 2 diameter\t</b>\tm\tFracture\n",
        "*\t<b>\tfDia\t-\tFracture set 3 diameter\t</b>\tm\tFracture\n",
        "*\t<b>\tfDip\t-\tFracture set 1 dip\t</b>\tdeg\tFracture\n",
        "*\t<b>\tfDip\t-\tFracture set 2 dip\t</b>\tdeg\tFracture\n",
        "*\t<b>\tfDip\t-\tFracture set 3 dip\t</b>\tdeg\tFracture\n",
        "*\t<b>\tfNum\t-\tFracture set 1 count\t</b>\tfractures\tFracture\n",
        "*\t<b>\tfNum\t-\tFracture set 2 count\t</b>\tfractures\tFracture\n",
        "*\t<b>\tfNum\t-\tFracture set 3 count\t</b>\tfractures\tFracture\n",
        "*\t<b>\tFrack\t-\tFracture permeability\t</b>\tmD\tScaling\n",
        "*\t<b>\tfStr\t-\tFracture set 1 strike\t</b>\tdeg\tFracture\n",
        "*\t<b>\tfStr\t-\tFracture set 2 strike\t</b>\tdeg\tFracture\n",
        "*\t<b>\tfStr\t-\tFracture set 3 strike\t</b>\tdeg\tFracture\n",
        "*\t<b>\tgamma\t-\tShear displacement-length coefficient\t</b>\tm/m\tScaling\n",
        "*\t<b>\tGenEfficiency\t-\tElectrical generator efficiency\t</b>\t-\tPower\n",
        "*\t<b>\tH_ConvCoef\t-\tBorehole thermal convection coefficient\t</b>\tkW/m2K\tWell\n",
        "*\t<b>\thfmcc\t-\tHydraulic fracture cohesion\t</b>\tMPa\tSite\n",
        "*\t<b>\thfphi\t-\tHydraulic fracture friction angle\t</b>\tdeg\tSite\n",
        "*\t<b>\tKs2\t-\tIntermediate earth pressure coefficient\t</b>\tPa/Pa\tStress\n",
        "*\t<b>\tKs3\t-\tMinimum lateral earth pressure coefficient\t</b>\tPa/Pa\tStress\n",
        "*\t<b>\tleakoff\t-\tCarter leakoff coefficient\t</b>\t\tStimulation\n",
        "*\t<b>\tLifeSpan\t-\tProject lifespan\t</b>\tyr\tPower\n",
        "*\t<b>\tmcc\t-\tCohesion\t</b>\tMPa\tFracture\n",
        "*\t<b>\tN\t-\tWitherspoon factor\t</b>\tm/m\tScaling\n",
        "*\t<b>\tn1\t-\tShear displacement-length exponent\t</b>\t-\tScaling\n",
        "*\t<b>\tp_whp\t-\tPower plant inlet pressure\t</b>\tMPa\tPower\n",
        "*\t<b>\tperf\t-\tPerforation count\t</b>\tperfs\tWell\n",
        "*\t<b>\tphi\t-\tFriction Angle\t</b>\t-\tFracture\n",
        "*\t<b>\tPorek\t-\tMatrix permeability\t</b>\tmD\tScaling\n",
        "*\t<b>\tPoremu\t-\tWater dynamic viscosity\t</b>\tcP\tSolver Setup\n",
        "*\t<b>\tPoreRho\t-\tWater density for flow analysis\t</b>\tkg/m3\tSolver Setup\n",
        "*\t<b>\tQinj\t-\tCirculation flow rate\t</b>\tm3/s\tStimulation\n",
        "*\t<b>\tQstim\t-\tStimulation flow rate\t</b>\tm3/s\tStimulation\n",
        "*\t<b>\tr_perf\t-\tPerforation radus\t</b>\tm\tSolver Setup\n",
        "*\t<b>\tra\t-\tCasing inner radius\t</b>\tm\tWell\n",
        "*\t<b>\trb\t-\tCasing outer radius\t</b>\tm\tWell\n",
        "*\t<b>\trc\t-\tBorehole radius\t</b>\tm\tWell\n",
        "*\t<b>\tResDepth\t-\tNominal reservoir depth\t</b>\tm\tSite\n",
        "*\t<b>\tResE\t-\tRock elastic modulus\t</b>\tGPa\tStress\n",
        "*\t<b>\tResGradient\t-\tGeothermal gradient\t</b>\tK/km\tSite\n",
        "*\t<b>\tResKt\t-\tRock thermal conductivity\t</b>\tW/mK\tSite\n",
        "*\t<b>\tResRho\t-\tRock density\t</b>\tkg/m3\tSite\n",
        "*\t<b>\tResSv\t-\tRock volumetric specific heat capacity\t</b>\tkJ/m3K\tSite\n",
        "*\t<b>\tResv\t-\tRock Poisson's ratio\t</b>\tm/m\tStress\n",
        "*\t<b>\trgh\t-\tHazen-Williams friction coefficient\t</b>\t-\tWell\n",
        "*\t<b>\ts1\t-\tOverburden stress\t</b>\tPa\tStress\n",
        "*\t<b>\ts2\t-\tIntermediate stress\t</b>\tPa\tStress\n",
        "*\t<b>\ts3\t-\tMinimum stress\t</b>\tPa\tStress\n",
        "*\t<b>\ts3Azn\t-\tMinimum stress azimuth\t</b>\tdeg\tStress\n",
        "*\t<b>\ts3Dip\t-\tMinimum stress dip\t</b>\tdeg\tStress\n",
        "*\t<b>\tsand\t-\tFrac sand concentration\t</b>\t\tStimulation\n",
        "*\t<b>\tsize\t-\tDomain size (i.e., cubic side length)\t</b>\tm\tSolver Setup\n",
        "*\t<b>\tstim_limit\t-\tNumber of iterations before pressure increment\t</b>\t\tSolver Setup\n",
        "*\t<b>\tTimeSteps\t-\tThermal analysis timesteps\t</b>\tsteps\tSolver Setup\n",
        "*\t<b>\tTinj\t-\tInjection temperature\t</b>\tC\tPower\n",
        "*\t<b>\tVstim\t-\tStimulation volume\t</b>\tm3\tStimulation\n",
        "*\t<b>\tw_azimuth\t-\tWell azimuth\t</b>\tdeg\tWell\n",
        "*\t<b>\tw_count\t-\tWell count\t</b>\twells\tWell\n",
        "*\t<b>\tw_dip\t-\tWell dip\t</b>\tdeg\tWell\n",
        "*\t<b>\tw_intervals\t-\tWell intervals\t</b>\tzones\tWell\n",
        "*\t<b>\tw_length\t-\tWell length\t</b>\tm\tWell\n",
        "*\t<b>\tw_phase\t-\tWell phase\t</b>\tdeg\tWell\n",
        "*\t<b>\tw_proportion\t-\tWell proportion\t</b>\tdeg\tWell\n",
        "*\t<b>\tw_skew\t-\tWell skew\t</b>\tdeg\tWell\n",
        "*\t<b>\tw_spacing\t-\tWell spacing\t</b>\tm\tWell\n",
        "*\t<b>\tw_toe\t-\tWell toe\t</b>\tdeg\tWell\n",
        "\n",
        "OUTPUTS:\n",
        "*\t<b>\tdhout</b> - timeseries\t\tExtracted thermal power - time variable\tkJ/s\tPower\n",
        "*\t<b>\tdia_last\t</b>\tFinal diameter of freshest fracture\tm\tInterpretation\n",
        "*\t<b>\th0 \t</b>- timeseries\tEnthalpy of injected fluid\tkJ/kg\tPower\n",
        "*\t<b>\th0 </b>- timeseries\t\tEnthalpy of produced fluid\tkJ/kg\tPower\n",
        "*\t<b>\thfstim\t</b>\tNumber of stimulated hydraulic fractures\tfractures\tIntercepts\n",
        "*\t<b>\thinj\t</b>\tEnthalpy of injected fluid\tkJ/kg\tEfficiency\n",
        "*\t<b>\thpro </b>- timeseries\t\tProduction enthalpy - time variable\tkJ/kg\tPower\n",
        "*\t<b>\tixint\t</b>\tNumber of fractures intercepting injectors\tfractures\tIntercepts\n",
        "*\t<b>\tm0\t</b>\tMass flow rate into injection well\tkg/s\tPower\n",
        "*\t<b>\tm0\t</b>\tMass flow rate into production well\tkg/s\tPower\n",
        "*\t<b>\tmpro\t</b>\tProduction mass flow rate\tkg/s\tPower\n",
        "*\t<b>\tnfstim\t</b>\tNumber of stimulated natural fracutres\tfractures\tIntercepts\n",
        "*\t<b>\tPc_last\t</b>\tCritical pressure of freshest fracture\tPa\tInterpretation\n",
        "*\t<b>\tPcen_last\t</b>\tCenter pore pressure in freshest fracture\tPa\tInterpretation\n",
        "*\t<b>\tpinj\t</b>\tPressure of injected fluid\tMPa\tEfficiency\n",
        "*\t<b>\tPmax_last\t</b>\tMax pore pressure in freshest fracture\tPa\tInterpretation\n",
        "*\t<b>\tPout</b> - timeseries\t\tRankine electrical power - time variable\tkW\tPower\n",
        "*\t<b>\tpxint\t</b>\tNumber of fractures intercepting producers\tfractures\tIntercepts\n",
        "*\t<b>\tq0\t</b>\tVolume flow rate into injection well\tm3/s\tPower\n",
        "*\t<b>\tq0\t</b>\tVolume flow rate into production well\tm3/s\tPower\n",
        "*\t<b>\tqgain\t</b>\tBoundary inflow rate\tm3/s\tEfficiency\n",
        "*\t<b>\tqinj\t</b>\tCumulative injection rate\tm3/s\tEfficiency\n",
        "*\t<b>\tqleak\t</b>\tBoundary outflow rate\tm3/s\tEfficiency\n",
        "*\t<b>\tqpro\t</b>\tCumulative production rate\tm3/s\tEfficiency\n",
        "*\t<b>\trecovery\t</b>\tProduction rate / Injection rate\tratio\tEfficiency\n",
        "*\t<b>\tsn_last\t</b>\tNormal stress on freshest fracture\tPa\tInterpretation\n",
        "*\t<b>\tT0 - </b>timeseries\t\tTemperature at injection well\tK\tPower\n",
        "*\t<b>\tT0 - </b>timeseries\t\tTemperature at production well\tK\tPower\n",
        "*\t<b>\ttype_last\t</b>\tType of freshest fracture\t-\tInterpretation\n",
        "*\t<b>\tv5\t</b>\tSpecific volume at injection well\tm3/kg\tEfficiency\n"
      ],
      "metadata": {
        "id": "A9iVyQeFo9d-"
      }
    },
    {
      "cell_type": "markdown",
      "source": [
        "#### Objective functions\n",
        "* Timeseries without losses\n",
        "$$P_{usable}=0.13(dhout+(h_{95C}-h_{120C})mpro)$$ \\\\\n",
        "* Cumulative without Losses\n",
        "$$P_{usable}=\\frac{1}{20yr} \\int^{20}_{0} 0.13(dhout+(h_{95C}-h_{120C})mpro)dt$$ \\\\\n",
        "* Timeseries with Losses\n",
        "$$P_{usable}=0.13(dhout+(h_{95C}-h_{120C}-v5(Pinj-Pwhp))mpro)$$ \\\\\n",
        "where: \\\\\n",
        "$P_{usable}$ - amount of enthalpy, kJ/s \\\n",
        "$dhout$ - enthalpy-rate change from injection to production, kJ/s \\\n",
        "$h_{95C},h_{120C}$ - reference enthalpies (calculated), kJ/kg \\\n",
        "$v5$ - specific volume (thermodynamic term), m<sup>3</sup>/kg \\\n",
        "$P_{inj}$ - pressure of injected fluid, MPa (x10<sup>3</sup> kJ/m<sup>3</sup>) \\\n",
        "$P_{whp}$ - power plant inlet pressure, MPa (x10<sup>3</sup> kJ/m<sup>3</sup>) \\\n",
        "$mpro$ - production mass flowrate, kg/s\n"
      ],
      "metadata": {
        "id": "pF1xYEPqushL"
      }
    },
    {
      "cell_type": "markdown",
      "source": [
        "Performance indicators:\n",
        "* $hpro$ - Production Enthalpy, kJ/kg\n",
        "* $T0$ - Production Temperature, K\n",
        "* $dhout$ - Thermal Recovery - enthalpy-rate change from injection to production, kJ/s\n",
        "* $Pout$ - Electrical Power Output, kW\n"
      ],
      "metadata": {
        "id": "WeyyDvxQ4Vsw"
      }
    },
    {
      "cell_type": "markdown",
      "source": [
        "#### Investigaton of `inputs_results_FORGE_main30yr`\t(Primary dataset)\n",
        "This input & output dataset summary has **44,492** realizations covering:\n",
        "* 30 years of production\n",
        "* Two-well injector-producer design\n",
        "* Large parameter space.\n",
        "\n",
        "Experience from a large number of projects is needed to anticipate how future works will perform. "
      ],
      "metadata": {
        "id": "WDiFwggzpCVG"
      }
    },
    {
      "cell_type": "markdown",
      "source": [
        "## Plot performance by electrical power output"
      ],
      "metadata": {
        "id": "gjNRpMb0MFk7"
      }
    },
    {
      "cell_type": "code",
      "source": [
        "# plot top-5 simulations by electrical power output\n",
        "\n",
        "cols_pout = [c for c in inputs_results_main30yr.columns if c[:4] == 'pin' or c[:4] == 'Pout']\n",
        "inputs_results_main30yr_Pout = inputs_results_main30yr[cols_pout]\n",
        "top5 = inputs_results_main30yr_Pout.sort_values(by=inputs_results_main30yr_Pout.columns[-1], ascending=False).head(5)\n"
      ],
      "metadata": {
        "id": "joTbeTnW6AA1"
      },
      "execution_count": 259,
      "outputs": []
    },
    {
      "cell_type": "code",
      "source": [
        "for time_step in range(0,3000,25):\n",
        "  sns.scatterplot(data=top5, x=time_step/100, y=top5['Pout'+f':{time_step/100:,.3f}'], hue=top5['pin'], legend=False)\n",
        "\n",
        "plt.ylabel('Pout')\n",
        "plt.show()\n"
      ],
      "metadata": {
        "colab": {
          "base_uri": "https://localhost:8080/",
          "height": 265
        },
        "id": "Jc3dRcA679vc",
        "outputId": "dde4c51a-d6ea-4ccb-daf1-e83ff5e16539"
      },
      "execution_count": 260,
      "outputs": [
        {
          "output_type": "display_data",
          "data": {
            "text/plain": [
              "<Figure size 432x288 with 1 Axes>"
            ],
            "image/png": "[encoded data removed]"
          },
          "metadata": {
            "needs_background": "light"
          }
        }
      ]
    },
    {
      "cell_type": "code",
      "source": [
        "# see the number of electrical power output simulations with all-time unchanged data\n",
        "duplicates = 20\n",
        "\n",
        "valid_pins = []\n",
        "for index, row in inputs_results_main30yr_Pout.iterrows():\n",
        "  if row.nunique() > len(row)-duplicates and row[-1] > 50:\n",
        "    valid_pins.append(row[0])\n",
        "  else:\n",
        "    pass\n",
        "len(valid_pins)\n"
      ],
      "metadata": {
        "colab": {
          "base_uri": "https://localhost:8080/"
        },
        "id": "o7g2-xlS9g_O",
        "outputId": "f248411f-ec16-4f1b-ddb6-ffbc93342213"
      },
      "execution_count": 261,
      "outputs": [
        {
          "output_type": "execute_result",
          "data": {
            "text/plain": [
              "494"
            ]
          },
          "metadata": {},
          "execution_count": 261
        }
      ]
    },
    {
      "cell_type": "code",
      "source": [
        "# plot top-5 valid high-performance simulations by electrical power output\n",
        "\n",
        "inputs_results_main30yr_Pout_valid = inputs_results_main30yr_Pout[inputs_results_main30yr_Pout['pin'].isin(valid_pins)]\n",
        "top5_Pout_valid = inputs_results_main30yr_Pout_valid.sort_values(by=inputs_results_main30yr_Pout_valid.columns[-1], ascending=False).head(5)\n",
        "\n",
        "for time_step in range(0,3000,25):\n",
        "  sns.scatterplot(data=top5_Pout_valid, x=time_step/100, y=top5_Pout_valid['Pout'+f':{time_step/100:,.3f}'], hue=top5_Pout_valid['pin'], legend=False)\n",
        "\n",
        "plt.ylabel('Pout')\n",
        "plt.show()\n",
        "\n",
        "print('Top-5 high-performance simulation: ', top5_Pout_valid['pin'])\n"
      ],
      "metadata": {
        "colab": {
          "base_uri": "https://localhost:8080/",
          "height": 369
        },
        "id": "AgBZHfyTIkQw",
        "outputId": "ae71d2e1-a5cc-40a2-b57b-75f0c589732d"
      },
      "execution_count": 262,
      "outputs": [
        {
          "output_type": "display_data",
          "data": {
            "text/plain": [
              "<Figure size 432x288 with 1 Axes>"
            ],
            "image/png": "[encoded data removed]"
          },
          "metadata": {
            "needs_background": "light"
          }
        },
        {
          "output_type": "stream",
          "name": "stdout",
          "text": [
            "Top-5 high-performance simulation:  2744     658302738\n",
            "2752     754860555\n",
            "35186    903984808\n",
            "41287    957964381\n",
            "35195    611376788\n",
            "Name: pin, dtype: int64\n"
          ]
        }
      ]
    },
    {
      "cell_type": "code",
      "source": [
        "# plot high-performance simulation by electrical power output\n",
        "\n",
        "top_Pout_valid_high = inputs_results_main30yr_Pout_valid.sort_values(by=inputs_results_main30yr_Pout_valid.columns[-1], ascending=False).head(1)\n",
        "\n",
        "for time_step in range(0,3000,25):\n",
        "  sns.scatterplot(data=top_Pout_valid_high, x=time_step/100, y=top_Pout_valid_high['Pout'+f':{time_step/100:,.3f}'], hue=top_Pout_valid_high['pin'], legend=False)\n",
        "\n",
        "plt.ylabel('Pout')\n",
        "plt.show()\n",
        "\n",
        "print('High-performance simulation: ', top_Pout_valid_high['pin'])\n"
      ],
      "metadata": {
        "colab": {
          "base_uri": "https://localhost:8080/",
          "height": 300
        },
        "id": "B-iSVQ8sP6CC",
        "outputId": "ff7bc269-226d-49d4-d69d-ecf61a5d3f1e"
      },
      "execution_count": 263,
      "outputs": [
        {
          "output_type": "display_data",
          "data": {
            "text/plain": [
              "<Figure size 432x288 with 1 Axes>"
            ],
            "image/png": "[encoded data removed]"
          },
          "metadata": {
            "needs_background": "light"
          }
        },
        {
          "output_type": "stream",
          "name": "stdout",
          "text": [
            "High-performance simulation:  2744    658302738\n",
            "Name: pin, dtype: int64\n"
          ]
        }
      ]
    },
    {
      "cell_type": "code",
      "source": [
        "# plot bottom-5 valid low-performance simulations by electrical power output\n",
        "\n",
        "inputs_results_main30yr_Pout_valid = inputs_results_main30yr_Pout[inputs_results_main30yr_Pout['pin'].isin(valid_pins)]\n",
        "btm5_Pout_valid = inputs_results_main30yr_Pout_valid.sort_values(by=inputs_results_main30yr_Pout_valid.columns[-1], ascending=False).tail(5)\n",
        "\n",
        "for time_step in range(0,3000,25):\n",
        "  sns.scatterplot(data=btm5_Pout_valid, x=time_step/100, y=btm5_Pout_valid['Pout'+f':{time_step/100:,.3f}'], hue=btm5_Pout_valid['pin'], legend=False)\n",
        "\n",
        "plt.ylabel('Pout')\n",
        "plt.show()\n",
        "\n",
        "print('Bottom-5 low-performance simulation: ', btm5_Pout_valid['pin'])\n"
      ],
      "metadata": {
        "colab": {
          "base_uri": "https://localhost:8080/",
          "height": 369
        },
        "id": "ma1ejPimQ8My",
        "outputId": "d5bebd8d-d5fd-4b41-c267-bde893812e3c"
      },
      "execution_count": 264,
      "outputs": [
        {
          "output_type": "display_data",
          "data": {
            "text/plain": [
              "<Figure size 432x288 with 1 Axes>"
            ],
            "image/png": "[encoded data removed]"
          },
          "metadata": {
            "needs_background": "light"
          }
        },
        {
          "output_type": "stream",
          "name": "stdout",
          "text": [
            "Bottom-5 low-performance simulation:  23210    813274794\n",
            "21304    720983041\n",
            "21738    416278033\n",
            "36562    878291145\n",
            "20863    385011569\n",
            "Name: pin, dtype: int64\n"
          ]
        }
      ]
    },
    {
      "cell_type": "code",
      "source": [
        "# plot low-performance simulation by electrical power output\n",
        "\n",
        "btm_Pout_valid_low = inputs_results_main30yr_Pout_valid.sort_values(by=inputs_results_main30yr_Pout_valid.columns[-1], ascending=False).tail(1)\n",
        "\n",
        "for time_step in range(0,3000,25):\n",
        "  sns.scatterplot(data=btm_Pout_valid_low, x=time_step/100, y=btm_Pout_valid_low['Pout'+f':{time_step/100:,.3f}'], hue=btm_Pout_valid_low['pin'], legend=False)\n",
        "\n",
        "plt.ylabel('Pout')\n",
        "plt.show()\n",
        "\n",
        "print('Low performance simulation: ', btm_Pout_valid_low['pin'])\n"
      ],
      "metadata": {
        "colab": {
          "base_uri": "https://localhost:8080/",
          "height": 300
        },
        "id": "4cCK9bPYcPRI",
        "outputId": "677f1d3c-883c-4b82-f876-fc49dc5fcc70"
      },
      "execution_count": 265,
      "outputs": [
        {
          "output_type": "display_data",
          "data": {
            "text/plain": [
              "<Figure size 432x288 with 1 Axes>"
            ],
            "image/png": "[encoded data removed]"
          },
          "metadata": {
            "needs_background": "light"
          }
        },
        {
          "output_type": "stream",
          "name": "stdout",
          "text": [
            "Low performance simulation:  20863    385011569\n",
            "Name: pin, dtype: int64\n"
          ]
        }
      ]
    },
    {
      "cell_type": "code",
      "source": [
        "inputs_results_main30yr_Pout_valid"
      ],
      "metadata": {
        "colab": {
          "base_uri": "https://localhost:8080/",
          "height": 488
        },
        "id": "5TveGz51vWzO",
        "outputId": "f23e803e-0867-41d7-a7e8-cfbbf25d5025"
      },
      "execution_count": 266,
      "outputs": [
        {
          "output_type": "execute_result",
          "data": {
            "text/plain": [
              "             pin  Pout:0.000  Pout:0.250  Pout:0.500  Pout:0.750  Pout:1.000  \\\n",
              "2      555177737      1950.0       825.0      1110.0      1040.0      1030.0   \n",
              "19     730106141       576.0       319.0       408.0       367.0       369.0   \n",
              "34     722207808      1700.0       976.0      1240.0      1120.0      1150.0   \n",
              "41     266741007      1940.0       484.0       686.0       651.0       649.0   \n",
              "47     983147230      2000.0       855.0      1140.0      1070.0      1060.0   \n",
              "...          ...         ...         ...         ...         ...         ...   \n",
              "43972  124640817       751.0         0.0       750.0       310.0       701.0   \n",
              "44068  430698483      2290.0      1800.0      1830.0      1650.0      1580.0   \n",
              "44219  192786637       990.0       407.0       833.0       649.0       735.0   \n",
              "44320  285475897      1180.0       634.0       821.0       739.0       748.0   \n",
              "44351  111655066      2660.0      1020.0      1490.0      1340.0      1350.0   \n",
              "\n",
              "       Pout:1.250  Pout:1.500  Pout:1.750  Pout:2.000  ...  Pout:27.500  \\\n",
              "2          1030.0      1040.0      1020.0      1020.0  ...        670.0   \n",
              "19          374.0       369.0       361.0       365.0  ...        206.0   \n",
              "34         1160.0      1150.0      1130.0      1140.0  ...        770.0   \n",
              "41          650.0       646.0       638.0       632.0  ...        418.0   \n",
              "47         1060.0      1080.0      1050.0      1050.0  ...        696.0   \n",
              "...           ...         ...         ...         ...  ...          ...   \n",
              "43972       516.0       624.0       596.0       583.0  ...        216.0   \n",
              "44068      1490.0      1400.0      1360.0      1300.0  ...        277.0   \n",
              "44219       691.0       697.0       687.0       678.0  ...        224.0   \n",
              "44320       744.0       738.0       741.0       734.0  ...        427.0   \n",
              "44351      1340.0      1380.0      1320.0      1340.0  ...        654.0   \n",
              "\n",
              "       Pout:27.750  Pout:28.000  Pout:28.250  Pout:28.500  Pout:28.750  \\\n",
              "2            668.0        667.0        665.0        664.0        662.0   \n",
              "19           205.0        205.0        204.0        203.0        203.0   \n",
              "34           768.0        766.0        764.0        763.0        761.0   \n",
              "41           417.0        417.0        416.0        415.0        414.0   \n",
              "47           695.0        693.0        692.0        690.0        689.0   \n",
              "...            ...          ...          ...          ...          ...   \n",
              "43972        212.0        208.0        204.0        200.0        196.0   \n",
              "44068        274.0        272.0        269.0        267.0        264.0   \n",
              "44219        221.0        219.0        216.0        213.0        210.0   \n",
              "44320        426.0        425.0        423.0        422.0        421.0   \n",
              "44351        651.0        647.0        644.0        641.0        638.0   \n",
              "\n",
              "       Pout:29.000  Pout:29.250  Pout:29.500  Pout:29.750  \n",
              "2            661.0        659.0        658.0        656.0  \n",
              "19           202.0        202.0        201.0        200.0  \n",
              "34           759.0        757.0        756.0        754.0  \n",
              "41           414.0        413.0        412.0        411.0  \n",
              "47           687.0        686.0        684.0        683.0  \n",
              "...            ...          ...          ...          ...  \n",
              "43972        192.0        188.0        184.0        180.0  \n",
              "44068        262.0        260.0        257.0        255.0  \n",
              "44219        207.0        205.0        202.0        199.0  \n",
              "44320        420.0        418.0        417.0        416.0  \n",
              "44351        635.0        632.0        629.0        626.0  \n",
              "\n",
              "[494 rows x 121 columns]"
            ],
            "text/html": [
              "\n",
              "  <div id=\"df-a5d63cb4-5a43-4371-a181-c1fb7090b38c\">\n",
              "    <div class=\"colab-df-container\">\n",
              "      <div>\n",
              "<style scoped>\n",
              "    .dataframe tbody tr th:only-of-type {\n",
              "        vertical-align: middle;\n",
              "    }\n",
              "\n",
              "    .dataframe tbody tr th {\n",
              "        vertical-align: top;\n",
              "    }\n",
              "\n",
              "    .dataframe thead th {\n",
              "        text-align: right;\n",
              "    }\n",
              "</style>\n",
              "<table border=\"1\" class=\"dataframe\">\n",
              "  <thead>\n",
              "    <tr style=\"text-align: right;\">\n",
              "      <th></th>\n",
              "      <th>pin</th>\n",
              "      <th>Pout:0.000</th>\n",
              "      <th>Pout:0.250</th>\n",
              "      <th>Pout:0.500</th>\n",
              "      <th>Pout:0.750</th>\n",
              "      <th>Pout:1.000</th>\n",
              "      <th>Pout:1.250</th>\n",
              "      <th>Pout:1.500</th>\n",
              "      <th>Pout:1.750</th>\n",
              "      <th>Pout:2.000</th>\n",
              "      <th>...</th>\n",
              "      <th>Pout:27.500</th>\n",
              "      <th>Pout:27.750</th>\n",
              "      <th>Pout:28.000</th>\n",
              "      <th>Pout:28.250</th>\n",
              "      <th>Pout:28.500</th>\n",
              "      <th>Pout:28.750</th>\n",
              "      <th>Pout:29.000</th>\n",
              "      <th>Pout:29.250</th>\n",
              "      <th>Pout:29.500</th>\n",
              "      <th>Pout:29.750</th>\n",
              "    </tr>\n",
              "  </thead>\n",
              "  <tbody>\n",
              "    <tr>\n",
              "      <th>2</th>\n",
              "      <td>555177737</td>\n",
              "      <td>1950.0</td>\n",
              "      <td>825.0</td>\n",
              "      <td>1110.0</td>\n",
              "      <td>1040.0</td>\n",
              "      <td>1030.0</td>\n",
              "      <td>1030.0</td>\n",
              "      <td>1040.0</td>\n",
              "      <td>1020.0</td>\n",
              "      <td>1020.0</td>\n",
              "      <td>...</td>\n",
              "      <td>670.0</td>\n",
              "      <td>668.0</td>\n",
              "      <td>667.0</td>\n",
              "      <td>665.0</td>\n",
              "      <td>664.0</td>\n",
              "      <td>662.0</td>\n",
              "      <td>661.0</td>\n",
              "      <td>659.0</td>\n",
              "      <td>658.0</td>\n",
              "      <td>656.0</td>\n",
              "    </tr>\n",
              "    <tr>\n",
              "      <th>19</th>\n",
              "      <td>730106141</td>\n",
              "      <td>576.0</td>\n",
              "      <td>319.0</td>\n",
              "      <td>408.0</td>\n",
              "      <td>367.0</td>\n",
              "      <td>369.0</td>\n",
              "      <td>374.0</td>\n",
              "      <td>369.0</td>\n",
              "      <td>361.0</td>\n",
              "      <td>365.0</td>\n",
              "      <td>...</td>\n",
              "      <td>206.0</td>\n",
              "      <td>205.0</td>\n",
              "      <td>205.0</td>\n",
              "      <td>204.0</td>\n",
              "      <td>203.0</td>\n",
              "      <td>203.0</td>\n",
              "      <td>202.0</td>\n",
              "      <td>202.0</td>\n",
              "      <td>201.0</td>\n",
              "      <td>200.0</td>\n",
              "    </tr>\n",
              "    <tr>\n",
              "      <th>34</th>\n",
              "      <td>722207808</td>\n",
              "      <td>1700.0</td>\n",
              "      <td>976.0</td>\n",
              "      <td>1240.0</td>\n",
              "      <td>1120.0</td>\n",
              "      <td>1150.0</td>\n",
              "      <td>1160.0</td>\n",
              "      <td>1150.0</td>\n",
              "      <td>1130.0</td>\n",
              "      <td>1140.0</td>\n",
              "      <td>...</td>\n",
              "      <td>770.0</td>\n",
              "      <td>768.0</td>\n",
              "      <td>766.0</td>\n",
              "      <td>764.0</td>\n",
              "      <td>763.0</td>\n",
              "      <td>761.0</td>\n",
              "      <td>759.0</td>\n",
              "      <td>757.0</td>\n",
              "      <td>756.0</td>\n",
              "      <td>754.0</td>\n",
              "    </tr>\n",
              "    <tr>\n",
              "      <th>41</th>\n",
              "      <td>266741007</td>\n",
              "      <td>1940.0</td>\n",
              "      <td>484.0</td>\n",
              "      <td>686.0</td>\n",
              "      <td>651.0</td>\n",
              "      <td>649.0</td>\n",
              "      <td>650.0</td>\n",
              "      <td>646.0</td>\n",
              "      <td>638.0</td>\n",
              "      <td>632.0</td>\n",
              "      <td>...</td>\n",
              "      <td>418.0</td>\n",
              "      <td>417.0</td>\n",
              "      <td>417.0</td>\n",
              "      <td>416.0</td>\n",
              "      <td>415.0</td>\n",
              "      <td>414.0</td>\n",
              "      <td>414.0</td>\n",
              "      <td>413.0</td>\n",
              "      <td>412.0</td>\n",
              "      <td>411.0</td>\n",
              "    </tr>\n",
              "    <tr>\n",
              "      <th>47</th>\n",
              "      <td>983147230</td>\n",
              "      <td>2000.0</td>\n",
              "      <td>855.0</td>\n",
              "      <td>1140.0</td>\n",
              "      <td>1070.0</td>\n",
              "      <td>1060.0</td>\n",
              "      <td>1060.0</td>\n",
              "      <td>1080.0</td>\n",
              "      <td>1050.0</td>\n",
              "      <td>1050.0</td>\n",
              "      <td>...</td>\n",
              "      <td>696.0</td>\n",
              "      <td>695.0</td>\n",
              "      <td>693.0</td>\n",
              "      <td>692.0</td>\n",
              "      <td>690.0</td>\n",
              "      <td>689.0</td>\n",
              "      <td>687.0</td>\n",
              "      <td>686.0</td>\n",
              "      <td>684.0</td>\n",
              "      <td>683.0</td>\n",
              "    </tr>\n",
              "    <tr>\n",
              "      <th>...</th>\n",
              "      <td>...</td>\n",
              "      <td>...</td>\n",
              "      <td>...</td>\n",
              "      <td>...</td>\n",
              "      <td>...</td>\n",
              "      <td>...</td>\n",
              "      <td>...</td>\n",
              "      <td>...</td>\n",
              "      <td>...</td>\n",
              "      <td>...</td>\n",
              "      <td>...</td>\n",
              "      <td>...</td>\n",
              "      <td>...</td>\n",
              "      <td>...</td>\n",
              "      <td>...</td>\n",
              "      <td>...</td>\n",
              "      <td>...</td>\n",
              "      <td>...</td>\n",
              "      <td>...</td>\n",
              "      <td>...</td>\n",
              "      <td>...</td>\n",
              "    </tr>\n",
              "    <tr>\n",
              "      <th>43972</th>\n",
              "      <td>124640817</td>\n",
              "      <td>751.0</td>\n",
              "      <td>0.0</td>\n",
              "      <td>750.0</td>\n",
              "      <td>310.0</td>\n",
              "      <td>701.0</td>\n",
              "      <td>516.0</td>\n",
              "      <td>624.0</td>\n",
              "      <td>596.0</td>\n",
              "      <td>583.0</td>\n",
              "      <td>...</td>\n",
              "      <td>216.0</td>\n",
              "      <td>212.0</td>\n",
              "      <td>208.0</td>\n",
              "      <td>204.0</td>\n",
              "      <td>200.0</td>\n",
              "      <td>196.0</td>\n",
              "      <td>192.0</td>\n",
              "      <td>188.0</td>\n",
              "      <td>184.0</td>\n",
              "      <td>180.0</td>\n",
              "    </tr>\n",
              "    <tr>\n",
              "      <th>44068</th>\n",
              "      <td>430698483</td>\n",
              "      <td>2290.0</td>\n",
              "      <td>1800.0</td>\n",
              "      <td>1830.0</td>\n",
              "      <td>1650.0</td>\n",
              "      <td>1580.0</td>\n",
              "      <td>1490.0</td>\n",
              "      <td>1400.0</td>\n",
              "      <td>1360.0</td>\n",
              "      <td>1300.0</td>\n",
              "      <td>...</td>\n",
              "      <td>277.0</td>\n",
              "      <td>274.0</td>\n",
              "      <td>272.0</td>\n",
              "      <td>269.0</td>\n",
              "      <td>267.0</td>\n",
              "      <td>264.0</td>\n",
              "      <td>262.0</td>\n",
              "      <td>260.0</td>\n",
              "      <td>257.0</td>\n",
              "      <td>255.0</td>\n",
              "    </tr>\n",
              "    <tr>\n",
              "      <th>44219</th>\n",
              "      <td>192786637</td>\n",
              "      <td>990.0</td>\n",
              "      <td>407.0</td>\n",
              "      <td>833.0</td>\n",
              "      <td>649.0</td>\n",
              "      <td>735.0</td>\n",
              "      <td>691.0</td>\n",
              "      <td>697.0</td>\n",
              "      <td>687.0</td>\n",
              "      <td>678.0</td>\n",
              "      <td>...</td>\n",
              "      <td>224.0</td>\n",
              "      <td>221.0</td>\n",
              "      <td>219.0</td>\n",
              "      <td>216.0</td>\n",
              "      <td>213.0</td>\n",
              "      <td>210.0</td>\n",
              "      <td>207.0</td>\n",
              "      <td>205.0</td>\n",
              "      <td>202.0</td>\n",
              "      <td>199.0</td>\n",
              "    </tr>\n",
              "    <tr>\n",
              "      <th>44320</th>\n",
              "      <td>285475897</td>\n",
              "      <td>1180.0</td>\n",
              "      <td>634.0</td>\n",
              "      <td>821.0</td>\n",
              "      <td>739.0</td>\n",
              "      <td>748.0</td>\n",
              "      <td>744.0</td>\n",
              "      <td>738.0</td>\n",
              "      <td>741.0</td>\n",
              "      <td>734.0</td>\n",
              "      <td>...</td>\n",
              "      <td>427.0</td>\n",
              "      <td>426.0</td>\n",
              "      <td>425.0</td>\n",
              "      <td>423.0</td>\n",
              "      <td>422.0</td>\n",
              "      <td>421.0</td>\n",
              "      <td>420.0</td>\n",
              "      <td>418.0</td>\n",
              "      <td>417.0</td>\n",
              "      <td>416.0</td>\n",
              "    </tr>\n",
              "    <tr>\n",
              "      <th>44351</th>\n",
              "      <td>111655066</td>\n",
              "      <td>2660.0</td>\n",
              "      <td>1020.0</td>\n",
              "      <td>1490.0</td>\n",
              "      <td>1340.0</td>\n",
              "      <td>1350.0</td>\n",
              "      <td>1340.0</td>\n",
              "      <td>1380.0</td>\n",
              "      <td>1320.0</td>\n",
              "      <td>1340.0</td>\n",
              "      <td>...</td>\n",
              "      <td>654.0</td>\n",
              "      <td>651.0</td>\n",
              "      <td>647.0</td>\n",
              "      <td>644.0</td>\n",
              "      <td>641.0</td>\n",
              "      <td>638.0</td>\n",
              "      <td>635.0</td>\n",
              "      <td>632.0</td>\n",
              "      <td>629.0</td>\n",
              "      <td>626.0</td>\n",
              "    </tr>\n",
              "  </tbody>\n",
              "</table>\n",
              "<p>494 rows × 121 columns</p>\n",
              "</div>\n",
              "      <button class=\"colab-df-convert\" onclick=\"convertToInteractive('df-a5d63cb4-5a43-4371-a181-c1fb7090b38c')\"\n",
              "              title=\"Convert this dataframe to an interactive table.\"\n",
              "              style=\"display:none;\">\n",
              "        \n",
              "  <svg xmlns=\"http://www.w3.org/2000/svg\" height=\"24px\"viewBox=\"0 0 24 24\"\n",
              "       width=\"24px\">\n",
              "    <path d=\"M0 0h24v24H0V0z\" fill=\"none\"/>\n",
              "    <path d=\"M18.56 5.44l.94 2.06.94-2.06 2.06-.94-2.06-.94-.94-2.06-.94 2.06-2.06.94zm-11 1L8.5 8.5l.94-2.06 2.06-.94-2.06-.94L8.5 2.5l-.94 2.06-2.06.94zm10 10l.94 2.06.94-2.06 2.06-.94-2.06-.94-.94-2.06-.94 2.06-2.06.94z\"/><path d=\"M17.41 7.96l-1.37-1.37c-.4-.4-.92-.59-1.43-.59-.52 0-1.04.2-1.43.59L10.3 9.45l-7.72 7.72c-.78.78-.78 2.05 0 2.83L4 21.41c.39.39.9.59 1.41.59.51 0 1.02-.2 1.41-.59l7.78-7.78 2.81-2.81c.8-.78.8-2.07 0-2.86zM5.41 20L4 18.59l7.72-7.72 1.47 1.35L5.41 20z\"/>\n",
              "  </svg>\n",
              "      </button>\n",
              "      \n",
              "  <style>\n",
              "    .colab-df-container {\n",
              "      display:flex;\n",
              "      flex-wrap:wrap;\n",
              "      gap: 12px;\n",
              "    }\n",
              "\n",
              "    .colab-df-convert {\n",
              "      background-color: #E8F0FE;\n",
              "      border: none;\n",
              "      border-radius: 50%;\n",
              "      cursor: pointer;\n",
              "      display: none;\n",
              "      fill: #1967D2;\n",
              "      height: 32px;\n",
              "      padding: 0 0 0 0;\n",
              "      width: 32px;\n",
              "    }\n",
              "\n",
              "    .colab-df-convert:hover {\n",
              "      background-color: #E2EBFA;\n",
              "      box-shadow: 0px 1px 2px rgba(60, 64, 67, 0.3), 0px 1px 3px 1px rgba(60, 64, 67, 0.15);\n",
              "      fill: #174EA6;\n",
              "    }\n",
              "\n",
              "    [theme=dark] .colab-df-convert {\n",
              "      background-color: #3B4455;\n",
              "      fill: #D2E3FC;\n",
              "    }\n",
              "\n",
              "    [theme=dark] .colab-df-convert:hover {\n",
              "      background-color: #434B5C;\n",
              "      box-shadow: 0px 1px 3px 1px rgba(0, 0, 0, 0.15);\n",
              "      filter: drop-shadow(0px 1px 2px rgba(0, 0, 0, 0.3));\n",
              "      fill: #FFFFFF;\n",
              "    }\n",
              "  </style>\n",
              "\n",
              "      <script>\n",
              "        const buttonEl =\n",
              "          document.querySelector('#df-a5d63cb4-5a43-4371-a181-c1fb7090b38c button.colab-df-convert');\n",
              "        buttonEl.style.display =\n",
              "          google.colab.kernel.accessAllowed ? 'block' : 'none';\n",
              "\n",
              "        async function convertToInteractive(key) {\n",
              "          const element = document.querySelector('#df-a5d63cb4-5a43-4371-a181-c1fb7090b38c');\n",
              "          const dataTable =\n",
              "            await google.colab.kernel.invokeFunction('convertToInteractive',\n",
              "                                                     [key], {});\n",
              "          if (!dataTable) return;\n",
              "\n",
              "          const docLinkHtml = 'Like what you see? Visit the ' +\n",
              "            '<a target=\"_blank\" href=https://colab.research.google.com/notebooks/data_table.ipynb>data table notebook</a>'\n",
              "            + ' to learn more about interactive tables.';\n",
              "          element.innerHTML = '';\n",
              "          dataTable['output_type'] = 'display_data';\n",
              "          await google.colab.output.renderOutput(dataTable, element);\n",
              "          const docLink = document.createElement('div');\n",
              "          docLink.innerHTML = docLinkHtml;\n",
              "          element.appendChild(docLink);\n",
              "        }\n",
              "      </script>\n",
              "    </div>\n",
              "  </div>\n",
              "  "
            ]
          },
          "metadata": {},
          "execution_count": 266
        }
      ]
    },
    {
      "cell_type": "code",
      "source": [
        "# plot high-performance simulation by thermal recovery\n",
        "top_dhout = inputs_results_main30yr[inputs_results_main30yr['pin'].isin(top_Pout_valid_high['pin'])]\n",
        "for time_step in range(0,3000,25):\n",
        "  sns.scatterplot(data=top_dhout, x=time_step/100, y=top_dhout['dhout'+f':{time_step/100:,.3f}'], hue=top_dhout['pin'], legend=False)\n",
        "\n",
        "plt.ylabel('dhout')\n",
        "plt.show()\n",
        "\n",
        "print('High performance simulation: ', top_dhout['pin'])\n"
      ],
      "metadata": {
        "colab": {
          "base_uri": "https://localhost:8080/",
          "height": 300
        },
        "id": "L3OqMjgI0XuW",
        "outputId": "5d1b1e3e-5a93-4de0-cdf3-da99fcfaec2e"
      },
      "execution_count": 267,
      "outputs": [
        {
          "output_type": "display_data",
          "data": {
            "text/plain": [
              "<Figure size 432x288 with 1 Axes>"
            ],
            "image/png": "[encoded data removed]"
          },
          "metadata": {
            "needs_background": "light"
          }
        },
        {
          "output_type": "stream",
          "name": "stdout",
          "text": [
            "High performance simulation:  2744    658302738\n",
            "Name: pin, dtype: int64\n"
          ]
        }
      ]
    },
    {
      "cell_type": "code",
      "source": [
        "# plot low-performance simulation by thermal recovery\n",
        "btm_dhout = inputs_results_main30yr[inputs_results_main30yr['pin'].isin(btm_Pout_valid_low['pin'])]\n",
        "for time_step in range(0,3000,25):\n",
        "  sns.scatterplot(data=btm_dhout, x=time_step/100, y=btm_dhout['dhout'+f':{time_step/100:,.3f}'], hue=btm_dhout['pin'], legend=False)\n",
        "\n",
        "plt.ylabel('dhout')\n",
        "plt.show()\n",
        "\n",
        "print('Low performance simulation: ', btm_dhout['pin'])\n"
      ],
      "metadata": {
        "colab": {
          "base_uri": "https://localhost:8080/",
          "height": 300
        },
        "id": "IYSsm34O2C82",
        "outputId": "27d8c722-54e1-4237-94bd-4cff3f1401ed"
      },
      "execution_count": 268,
      "outputs": [
        {
          "output_type": "display_data",
          "data": {
            "text/plain": [
              "<Figure size 432x288 with 1 Axes>"
            ],
            "image/png": "[encoded data removed]"
          },
          "metadata": {
            "needs_background": "light"
          }
        },
        {
          "output_type": "stream",
          "name": "stdout",
          "text": [
            "Low performance simulation:  20863    385011569\n",
            "Name: pin, dtype: int64\n"
          ]
        }
      ]
    },
    {
      "cell_type": "code",
      "source": [
        "# plot high-performance simulation by production enthalpy\n",
        "for time_step in range(0,3000,25):\n",
        "  sns.scatterplot(data=top_dhout, x=time_step/100, y=top_dhout['hpro'+f':{time_step/100:,.3f}'], hue=top_dhout['pin'], legend=False)\n",
        "\n",
        "plt.ylabel('hpro')\n",
        "plt.show()\n",
        "\n",
        "print('High performance simulation: ', top_dhout['pin'])\n"
      ],
      "metadata": {
        "colab": {
          "base_uri": "https://localhost:8080/",
          "height": 300
        },
        "id": "PGnuiyOu5cEx",
        "outputId": "471eeb2c-ec75-4ca1-cc02-d8a0130c17ba"
      },
      "execution_count": 269,
      "outputs": [
        {
          "output_type": "display_data",
          "data": {
            "text/plain": [
              "<Figure size 432x288 with 1 Axes>"
            ],
            "image/png": "[encoded data removed]"
          },
          "metadata": {
            "needs_background": "light"
          }
        },
        {
          "output_type": "stream",
          "name": "stdout",
          "text": [
            "High performance simulation:  2744    658302738\n",
            "Name: pin, dtype: int64\n"
          ]
        }
      ]
    },
    {
      "cell_type": "code",
      "source": [
        "# plot low-performance simulation by production enthalpy\n",
        "for time_step in range(0,3000,25):\n",
        "  sns.scatterplot(data=btm_dhout, x=time_step/100, y=btm_dhout['hpro'+f':{time_step/100:,.3f}'], hue=btm_dhout['pin'], legend=False)\n",
        "\n",
        "plt.ylabel('hpro')\n",
        "plt.show()\n",
        "\n",
        "print('Low performance simulation: ', btm_dhout['pin'])\n"
      ],
      "metadata": {
        "colab": {
          "base_uri": "https://localhost:8080/",
          "height": 300
        },
        "id": "Nawl9yI95p6D",
        "outputId": "3e6f5654-1bd0-460f-9bd8-64dba67449d0"
      },
      "execution_count": 270,
      "outputs": [
        {
          "output_type": "display_data",
          "data": {
            "text/plain": [
              "<Figure size 432x288 with 1 Axes>"
            ],
            "image/png": "[encoded data removed]"
          },
          "metadata": {
            "needs_background": "light"
          }
        },
        {
          "output_type": "stream",
          "name": "stdout",
          "text": [
            "Low performance simulation:  20863    385011569\n",
            "Name: pin, dtype: int64\n"
          ]
        }
      ]
    },
    {
      "cell_type": "code",
      "source": [
        "print('High performance simulation well spacing: ', list(inputs_results_main30yr[inputs_results_main30yr['pin'] == 658302738]['w_spacing']))\n",
        "print('Low performance simulation well spacing: ', list(inputs_results_main30yr[inputs_results_main30yr['pin'] == 385011569]['w_spacing']))\n"
      ],
      "metadata": {
        "colab": {
          "base_uri": "https://localhost:8080/"
        },
        "id": "DY63TfePMBYJ",
        "outputId": "35e76c50-f3a2-4d05-ac66-6349aff48c1f"
      },
      "execution_count": 271,
      "outputs": [
        {
          "output_type": "stream",
          "name": "stdout",
          "text": [
            "High performance simulation well spacing:  [159.0]\n",
            "Low performance simulation well spacing:  [247.0]\n"
          ]
        }
      ]
    },
    {
      "cell_type": "markdown",
      "source": [
        "## Plot performance by calculated amount of enthalpy\n"
      ],
      "metadata": {
        "id": "GraFByuvL0Lu"
      }
    },
    {
      "cell_type": "markdown",
      "source": [
        "### Timeseries without Losses"
      ],
      "metadata": {
        "id": "ER5emfpOMvp_"
      }
    },
    {
      "cell_type": "code",
      "source": [
        "# P_usable = 0.13 * (dhout + (h_95C - h_120C) * mpro)\n",
        "\n",
        "h_95C = 398.11 #kJ/kg\n",
        "h_120C = 503.81 #kJ/kg\n"
      ],
      "metadata": {
        "id": "PcMXWhkXlg1p"
      },
      "execution_count": 272,
      "outputs": []
    },
    {
      "cell_type": "code",
      "source": [
        "inputs_results_main30yr_P_usable = inputs_results_main30yr.copy()\n",
        "\n",
        "for time_step in range(0,3000,25):\n",
        "  inputs_results_main30yr_P_usable['P_usable'+f':{time_step/100:,.3f}'] = 0.13 * (inputs_results_main30yr_P_usable['dhout'+f':{time_step/100:,.3f}'] + (h_95C - h_120C) * inputs_results_main30yr_P_usable['mpro'])\n",
        "\n",
        "inputs_results_main30yr_P_usable.head(3)\n"
      ],
      "metadata": {
        "colab": {
          "base_uri": "https://localhost:8080/",
          "height": 237
        },
        "id": "n0fM9S5-_MTC",
        "outputId": "d34921fa-788a-48c5-ec5a-0f263088ae0c"
      },
      "execution_count": 273,
      "outputs": [
        {
          "output_type": "execute_result",
          "data": {
            "text/plain": [
              "         pin    size  ResDepth  ResGradient  ResRho  ResKt   ResSv  AmbTempC  \\\n",
              "0  997602694  1600.0    2360.0         84.4  2590.0   2.39  3030.0         0   \n",
              "1  874689955  1600.0    2360.0         85.0  2870.0   2.77  2160.0         0   \n",
              "2  555177737  1600.0    2350.0         86.6  2730.0   3.54  2040.0         0   \n",
              "\n",
              "   AmbPres          ResE  ...  P_usable:27.500  P_usable:27.750  \\\n",
              "0    0.101  5.990000e+10  ...     -2972.374600     -2972.374600   \n",
              "1    0.101  5.590000e+10  ...      -209.293322      -209.293322   \n",
              "2    0.101  6.020000e+10  ...      8023.028000      8023.028000   \n",
              "\n",
              "   P_usable:28.000  P_usable:28.250  P_usable:28.500  P_usable:28.750  \\\n",
              "0     -2972.374600     -2972.374600     -2972.374600     -2972.374600   \n",
              "1      -209.293322      -209.293322      -209.293322      -209.293322   \n",
              "2      8023.028000      8023.028000      8023.028000      8023.028000   \n",
              "\n",
              "   P_usable:29.000  P_usable:29.250  P_usable:29.500  P_usable:29.750  \n",
              "0     -2985.374600     -2985.374600     -2985.374600     -2985.374600  \n",
              "1      -209.293322      -209.293322      -209.293322      -209.293322  \n",
              "2      8023.028000      8023.028000      8023.028000      8010.028000  \n",
              "\n",
              "[3 rows x 616 columns]"
            ],
            "text/html": [
              "\n",
              "  <div id=\"df-cdf8638b-cb68-43da-b725-91808da00214\">\n",
              "    <div class=\"colab-df-container\">\n",
              "      <div>\n",
              "<style scoped>\n",
              "    .dataframe tbody tr th:only-of-type {\n",
              "        vertical-align: middle;\n",
              "    }\n",
              "\n",
              "    .dataframe tbody tr th {\n",
              "        vertical-align: top;\n",
              "    }\n",
              "\n",
              "    .dataframe thead th {\n",
              "        text-align: right;\n",
              "    }\n",
              "</style>\n",
              "<table border=\"1\" class=\"dataframe\">\n",
              "  <thead>\n",
              "    <tr style=\"text-align: right;\">\n",
              "      <th></th>\n",
              "      <th>pin</th>\n",
              "      <th>size</th>\n",
              "      <th>ResDepth</th>\n",
              "      <th>ResGradient</th>\n",
              "      <th>ResRho</th>\n",
              "      <th>ResKt</th>\n",
              "      <th>ResSv</th>\n",
              "      <th>AmbTempC</th>\n",
              "      <th>AmbPres</th>\n",
              "      <th>ResE</th>\n",
              "      <th>...</th>\n",
              "      <th>P_usable:27.500</th>\n",
              "      <th>P_usable:27.750</th>\n",
              "      <th>P_usable:28.000</th>\n",
              "      <th>P_usable:28.250</th>\n",
              "      <th>P_usable:28.500</th>\n",
              "      <th>P_usable:28.750</th>\n",
              "      <th>P_usable:29.000</th>\n",
              "      <th>P_usable:29.250</th>\n",
              "      <th>P_usable:29.500</th>\n",
              "      <th>P_usable:29.750</th>\n",
              "    </tr>\n",
              "  </thead>\n",
              "  <tbody>\n",
              "    <tr>\n",
              "      <th>0</th>\n",
              "      <td>997602694</td>\n",
              "      <td>1600.0</td>\n",
              "      <td>2360.0</td>\n",
              "      <td>84.4</td>\n",
              "      <td>2590.0</td>\n",
              "      <td>2.39</td>\n",
              "      <td>3030.0</td>\n",
              "      <td>0</td>\n",
              "      <td>0.101</td>\n",
              "      <td>5.990000e+10</td>\n",
              "      <td>...</td>\n",
              "      <td>-2972.374600</td>\n",
              "      <td>-2972.374600</td>\n",
              "      <td>-2972.374600</td>\n",
              "      <td>-2972.374600</td>\n",
              "      <td>-2972.374600</td>\n",
              "      <td>-2972.374600</td>\n",
              "      <td>-2985.374600</td>\n",
              "      <td>-2985.374600</td>\n",
              "      <td>-2985.374600</td>\n",
              "      <td>-2985.374600</td>\n",
              "    </tr>\n",
              "    <tr>\n",
              "      <th>1</th>\n",
              "      <td>874689955</td>\n",
              "      <td>1600.0</td>\n",
              "      <td>2360.0</td>\n",
              "      <td>85.0</td>\n",
              "      <td>2870.0</td>\n",
              "      <td>2.77</td>\n",
              "      <td>2160.0</td>\n",
              "      <td>0</td>\n",
              "      <td>0.101</td>\n",
              "      <td>5.590000e+10</td>\n",
              "      <td>...</td>\n",
              "      <td>-209.293322</td>\n",
              "      <td>-209.293322</td>\n",
              "      <td>-209.293322</td>\n",
              "      <td>-209.293322</td>\n",
              "      <td>-209.293322</td>\n",
              "      <td>-209.293322</td>\n",
              "      <td>-209.293322</td>\n",
              "      <td>-209.293322</td>\n",
              "      <td>-209.293322</td>\n",
              "      <td>-209.293322</td>\n",
              "    </tr>\n",
              "    <tr>\n",
              "      <th>2</th>\n",
              "      <td>555177737</td>\n",
              "      <td>1600.0</td>\n",
              "      <td>2350.0</td>\n",
              "      <td>86.6</td>\n",
              "      <td>2730.0</td>\n",
              "      <td>3.54</td>\n",
              "      <td>2040.0</td>\n",
              "      <td>0</td>\n",
              "      <td>0.101</td>\n",
              "      <td>6.020000e+10</td>\n",
              "      <td>...</td>\n",
              "      <td>8023.028000</td>\n",
              "      <td>8023.028000</td>\n",
              "      <td>8023.028000</td>\n",
              "      <td>8023.028000</td>\n",
              "      <td>8023.028000</td>\n",
              "      <td>8023.028000</td>\n",
              "      <td>8023.028000</td>\n",
              "      <td>8023.028000</td>\n",
              "      <td>8023.028000</td>\n",
              "      <td>8010.028000</td>\n",
              "    </tr>\n",
              "  </tbody>\n",
              "</table>\n",
              "<p>3 rows × 616 columns</p>\n",
              "</div>\n",
              "      <button class=\"colab-df-convert\" onclick=\"convertToInteractive('df-cdf8638b-cb68-43da-b725-91808da00214')\"\n",
              "              title=\"Convert this dataframe to an interactive table.\"\n",
              "              style=\"display:none;\">\n",
              "        \n",
              "  <svg xmlns=\"http://www.w3.org/2000/svg\" height=\"24px\"viewBox=\"0 0 24 24\"\n",
              "       width=\"24px\">\n",
              "    <path d=\"M0 0h24v24H0V0z\" fill=\"none\"/>\n",
              "    <path d=\"M18.56 5.44l.94 2.06.94-2.06 2.06-.94-2.06-.94-.94-2.06-.94 2.06-2.06.94zm-11 1L8.5 8.5l.94-2.06 2.06-.94-2.06-.94L8.5 2.5l-.94 2.06-2.06.94zm10 10l.94 2.06.94-2.06 2.06-.94-2.06-.94-.94-2.06-.94 2.06-2.06.94z\"/><path d=\"M17.41 7.96l-1.37-1.37c-.4-.4-.92-.59-1.43-.59-.52 0-1.04.2-1.43.59L10.3 9.45l-7.72 7.72c-.78.78-.78 2.05 0 2.83L4 21.41c.39.39.9.59 1.41.59.51 0 1.02-.2 1.41-.59l7.78-7.78 2.81-2.81c.8-.78.8-2.07 0-2.86zM5.41 20L4 18.59l7.72-7.72 1.47 1.35L5.41 20z\"/>\n",
              "  </svg>\n",
              "      </button>\n",
              "      \n",
              "  <style>\n",
              "    .colab-df-container {\n",
              "      display:flex;\n",
              "      flex-wrap:wrap;\n",
              "      gap: 12px;\n",
              "    }\n",
              "\n",
              "    .colab-df-convert {\n",
              "      background-color: #E8F0FE;\n",
              "      border: none;\n",
              "      border-radius: 50%;\n",
              "      cursor: pointer;\n",
              "      display: none;\n",
              "      fill: #1967D2;\n",
              "      height: 32px;\n",
              "      padding: 0 0 0 0;\n",
              "      width: 32px;\n",
              "    }\n",
              "\n",
              "    .colab-df-convert:hover {\n",
              "      background-color: #E2EBFA;\n",
              "      box-shadow: 0px 1px 2px rgba(60, 64, 67, 0.3), 0px 1px 3px 1px rgba(60, 64, 67, 0.15);\n",
              "      fill: #174EA6;\n",
              "    }\n",
              "\n",
              "    [theme=dark] .colab-df-convert {\n",
              "      background-color: #3B4455;\n",
              "      fill: #D2E3FC;\n",
              "    }\n",
              "\n",
              "    [theme=dark] .colab-df-convert:hover {\n",
              "      background-color: #434B5C;\n",
              "      box-shadow: 0px 1px 3px 1px rgba(0, 0, 0, 0.15);\n",
              "      filter: drop-shadow(0px 1px 2px rgba(0, 0, 0, 0.3));\n",
              "      fill: #FFFFFF;\n",
              "    }\n",
              "  </style>\n",
              "\n",
              "      <script>\n",
              "        const buttonEl =\n",
              "          document.querySelector('#df-cdf8638b-cb68-43da-b725-91808da00214 button.colab-df-convert');\n",
              "        buttonEl.style.display =\n",
              "          google.colab.kernel.accessAllowed ? 'block' : 'none';\n",
              "\n",
              "        async function convertToInteractive(key) {\n",
              "          const element = document.querySelector('#df-cdf8638b-cb68-43da-b725-91808da00214');\n",
              "          const dataTable =\n",
              "            await google.colab.kernel.invokeFunction('convertToInteractive',\n",
              "                                                     [key], {});\n",
              "          if (!dataTable) return;\n",
              "\n",
              "          const docLinkHtml = 'Like what you see? Visit the ' +\n",
              "            '<a target=\"_blank\" href=https://colab.research.google.com/notebooks/data_table.ipynb>data table notebook</a>'\n",
              "            + ' to learn more about interactive tables.';\n",
              "          element.innerHTML = '';\n",
              "          dataTable['output_type'] = 'display_data';\n",
              "          await google.colab.output.renderOutput(dataTable, element);\n",
              "          const docLink = document.createElement('div');\n",
              "          docLink.innerHTML = docLinkHtml;\n",
              "          element.appendChild(docLink);\n",
              "        }\n",
              "      </script>\n",
              "    </div>\n",
              "  </div>\n",
              "  "
            ]
          },
          "metadata": {},
          "execution_count": 273
        }
      ]
    },
    {
      "cell_type": "code",
      "source": [
        "# plot top-5 simulations by calculated amount of enthalpy\n",
        "cols_p_usable = [c for c in inputs_results_main30yr_P_usable.columns if c[:4] == 'pin' or c[:8] == 'P_usable']\n",
        "inputs_results_main30yr_P_usable_x = inputs_results_main30yr_P_usable[cols_p_usable]\n",
        "top5 = inputs_results_main30yr_P_usable_x.sort_values(by=inputs_results_main30yr_P_usable_x.columns[-1], ascending=False).head(5)\n",
        "\n",
        "for time_step in range(0,3000,25):\n",
        "  sns.scatterplot(data=top5, x=time_step/100, y=top5['P_usable'+f':{time_step/100:,.3f}'], hue=top5['pin'], legend=False)\n",
        "\n",
        "plt.ylabel('P_usable')\n",
        "plt.show()\n"
      ],
      "metadata": {
        "id": "WLIFhFYyCeTS",
        "outputId": "d11d6b11-5563-4192-957c-e5b3538f9d4f",
        "colab": {
          "base_uri": "https://localhost:8080/",
          "height": 265
        }
      },
      "execution_count": 274,
      "outputs": [
        {
          "output_type": "display_data",
          "data": {
            "text/plain": [
              "<Figure size 432x288 with 1 Axes>"
            ],
            "image/png": "[encoded data removed]"
          },
          "metadata": {
            "needs_background": "light"
          }
        }
      ]
    },
    {
      "cell_type": "code",
      "source": [
        "# see the number of calculated amount of enthalpy simulations with all-time unchanged data\n",
        "duplicates = 20\n",
        "\n",
        "valid_pins = []\n",
        "for index, row in inputs_results_main30yr_P_usable_x.iterrows():\n",
        "  if row.nunique() > len(row)-duplicates and row[-1] > 50 and row[1] > 100:\n",
        "    valid_pins.append(row[0])\n",
        "  else:\n",
        "    pass\n",
        "len(valid_pins)\n"
      ],
      "metadata": {
        "colab": {
          "base_uri": "https://localhost:8080/"
        },
        "id": "Lpm91vkPDB57",
        "outputId": "18723f27-91c8-4b66-996d-f9c9aec33a4c"
      },
      "execution_count": 275,
      "outputs": [
        {
          "output_type": "execute_result",
          "data": {
            "text/plain": [
              "14843"
            ]
          },
          "metadata": {},
          "execution_count": 275
        }
      ]
    },
    {
      "cell_type": "code",
      "source": [
        "# plot top-5 valid high-performance simulations by calculated amount of enthalpy\n",
        "\n",
        "inputs_results_main30yr_P_usable_x_valid = inputs_results_main30yr_P_usable_x[inputs_results_main30yr_P_usable_x['pin'].isin(valid_pins)]\n",
        "top5_P_usable_x_valid = inputs_results_main30yr_P_usable_x_valid.sort_values(by=inputs_results_main30yr_P_usable_x_valid.columns[-1], ascending=False).head(5)\n",
        "\n",
        "for time_step in range(0,3000,25):\n",
        "  sns.scatterplot(data=top5_P_usable_x_valid, x=time_step/100, y=top5_P_usable_x_valid['P_usable'+f':{time_step/100:,.3f}'], hue=top5_P_usable_x_valid['pin'], legend=False)\n",
        "\n",
        "plt.ylabel('P_usable')\n",
        "plt.show()\n",
        "\n",
        "print('Top-5 high-performance simulation: ', top5_P_usable_x_valid['pin'])\n"
      ],
      "metadata": {
        "colab": {
          "base_uri": "https://localhost:8080/",
          "height": 370
        },
        "id": "rj58GJEUD0va",
        "outputId": "032340d8-a8bb-42a4-cb80-62bd03422d0e"
      },
      "execution_count": 276,
      "outputs": [
        {
          "output_type": "display_data",
          "data": {
            "text/plain": [
              "<Figure size 432x288 with 1 Axes>"
            ],
            "image/png": "[encoded data removed]"
          },
          "metadata": {
            "needs_background": "light"
          }
        },
        {
          "output_type": "stream",
          "name": "stdout",
          "text": [
            "Top-5 high-performance simulation:  39456    299774151\n",
            "36197    833619589\n",
            "28429    818212256\n",
            "3627     558526726\n",
            "20544    120356629\n",
            "Name: pin, dtype: int64\n"
          ]
        }
      ]
    },
    {
      "cell_type": "code",
      "source": [
        "# plot high-performance simulation by calculated amount of enthalpy\n",
        "\n",
        "top_P_usable_x_valid_high = inputs_results_main30yr_P_usable_x_valid.sort_values(by=inputs_results_main30yr_P_usable_x_valid.columns[-1], ascending=False).head(1)\n",
        "\n",
        "for time_step in range(0,3000,25):\n",
        "  sns.scatterplot(data=top_P_usable_x_valid_high, x=time_step/100, y=top_P_usable_x_valid_high['P_usable'+f':{time_step/100:,.3f}'], hue=top_P_usable_x_valid_high['pin'], legend=False)\n",
        "\n",
        "plt.ylabel('P_usable')\n",
        "plt.show()\n",
        "\n",
        "print('High-performance simulation: ', top_P_usable_x_valid_high['pin'])\n"
      ],
      "metadata": {
        "colab": {
          "base_uri": "https://localhost:8080/",
          "height": 304
        },
        "id": "i7erw30MEQ3U",
        "outputId": "449174df-76f7-42a6-ae57-4ea671971a96"
      },
      "execution_count": 277,
      "outputs": [
        {
          "output_type": "display_data",
          "data": {
            "text/plain": [
              "<Figure size 432x288 with 1 Axes>"
            ],
            "image/png": "[encoded data removed]"
          },
          "metadata": {
            "needs_background": "light"
          }
        },
        {
          "output_type": "stream",
          "name": "stdout",
          "text": [
            "High-performance simulation:  39456    299774151\n",
            "Name: pin, dtype: int64\n"
          ]
        }
      ]
    },
    {
      "cell_type": "code",
      "source": [
        "# plot bottom-5 valid low-performance simulations by calculated amount of enthalpy\n",
        "\n",
        "inputs_results_main30yr_P_usable_x_valid = inputs_results_main30yr_P_usable_x[inputs_results_main30yr_P_usable_x['pin'].isin(valid_pins)]\n",
        "btm5_P_usable_x_valid = inputs_results_main30yr_P_usable_x_valid.sort_values(by=inputs_results_main30yr_P_usable_x_valid.columns[-1], ascending=False).tail(5)\n",
        "\n",
        "for time_step in range(0,3000,25):\n",
        "  sns.scatterplot(data=btm5_P_usable_x_valid, x=time_step/100, y=btm5_P_usable_x_valid['P_usable'+f':{time_step/100:,.3f}'], hue=btm5_P_usable_x_valid['pin'], legend=False)\n",
        "\n",
        "plt.ylabel('P_usable')\n",
        "plt.show()\n",
        "\n",
        "print('Bottom-5 low-performance simulation: ', btm5_P_usable_x_valid['pin'])\n"
      ],
      "metadata": {
        "colab": {
          "base_uri": "https://localhost:8080/",
          "height": 369
        },
        "id": "KQNUXYQZEpT9",
        "outputId": "5fb9fa28-da8a-4434-c940-94eae900af9c"
      },
      "execution_count": 278,
      "outputs": [
        {
          "output_type": "display_data",
          "data": {
            "text/plain": [
              "<Figure size 432x288 with 1 Axes>"
            ],
            "image/png": "[encoded data removed]"
          },
          "metadata": {
            "needs_background": "light"
          }
        },
        {
          "output_type": "stream",
          "name": "stdout",
          "text": [
            "Bottom-5 low-performance simulation:  9573     635473929\n",
            "40486    844097656\n",
            "10168    444307692\n",
            "36798    651610869\n",
            "28531    755579214\n",
            "Name: pin, dtype: int64\n"
          ]
        }
      ]
    },
    {
      "cell_type": "code",
      "source": [
        "# plot low-performance simulation by calculated amount of enthalpy\n",
        "\n",
        "btm_P_usable_x_valid_low = inputs_results_main30yr_P_usable_x_valid.sort_values(by=inputs_results_main30yr_P_usable_x_valid.columns[-1], ascending=False).tail(1)\n",
        "\n",
        "for time_step in range(0,3000,25):\n",
        "  sns.scatterplot(data=btm_P_usable_x_valid_low, x=time_step/100, y=btm_P_usable_x_valid_low['P_usable'+f':{time_step/100:,.3f}'], hue=btm_P_usable_x_valid_low['pin'], legend=False)\n",
        "\n",
        "plt.ylabel('P_usable')\n",
        "plt.show()\n",
        "\n",
        "print('Low performance simulation: ', btm_P_usable_x_valid_low['pin'])\n"
      ],
      "metadata": {
        "colab": {
          "base_uri": "https://localhost:8080/",
          "height": 300
        },
        "id": "c4hSOl1qFF0w",
        "outputId": "f1d35100-e875-4f3a-f497-4b8e43916e83"
      },
      "execution_count": 279,
      "outputs": [
        {
          "output_type": "display_data",
          "data": {
            "text/plain": [
              "<Figure size 432x288 with 1 Axes>"
            ],
            "image/png": "[encoded data removed]"
          },
          "metadata": {
            "needs_background": "light"
          }
        },
        {
          "output_type": "stream",
          "name": "stdout",
          "text": [
            "Low performance simulation:  28531    755579214\n",
            "Name: pin, dtype: int64\n"
          ]
        }
      ]
    },
    {
      "cell_type": "code",
      "source": [
        "print('High performance simulation well spacing: ', list(inputs_results_main30yr[inputs_results_main30yr['pin'] == 299774151]['w_spacing']))\n",
        "print('Low performance simulation well spacing: ', list(inputs_results_main30yr[inputs_results_main30yr['pin'] == 877195377]['w_spacing']))\n"
      ],
      "metadata": {
        "colab": {
          "base_uri": "https://localhost:8080/"
        },
        "id": "vaNih3pzGRru",
        "outputId": "49c12265-b73f-413d-f1f7-ab2ada6c1f67"
      },
      "execution_count": 280,
      "outputs": [
        {
          "output_type": "stream",
          "name": "stdout",
          "text": [
            "High performance simulation well spacing:  [706.0]\n",
            "Low performance simulation well spacing:  [687.0]\n"
          ]
        }
      ]
    },
    {
      "cell_type": "markdown",
      "source": [
        "### Cumulative without Losses"
      ],
      "metadata": {
        "id": "BgKcyR5IM05s"
      }
    },
    {
      "cell_type": "code",
      "source": [
        "# P_usable = 1 / 30 * \\int^{30}_{0} 0.13 * (dhout + (h_95C - h_120C) * mpro) dt\n",
        "P_usable_cum_dict = pd.DataFrame(columns=['pin', 'P_usable_cum'])\n",
        "\n",
        "for index, row in inputs_results_main30yr_P_usable.iterrows():\n",
        "  P_usable_cum = 0\n",
        "  for time_step in range(0,3000,25):\n",
        "    P_usable_cum += row['P_usable'+f':{time_step/100:,.3f}']\n",
        "  P_usable_cum_dict = P_usable_cum_dict.append({'pin': row['pin'], 'P_usable_cum': P_usable_cum / 30}, ignore_index=True)\n",
        "\n",
        "P_usable_cum_dict.head(3)\n"
      ],
      "metadata": {
        "id": "2-i77o0asGra"
      },
      "execution_count": null,
      "outputs": []
    },
    {
      "cell_type": "code",
      "source": [
        "inputs_results_main30yr_P_usable = pd.merge(inputs_results_main30yr_P_usable, P_usable_cum_dict, on='pin')\n",
        "inputs_results_main30yr_P_usable.head(3)\n"
      ],
      "metadata": {
        "id": "vXsvPQ5xfoax"
      },
      "execution_count": null,
      "outputs": []
    },
    {
      "cell_type": "code",
      "source": [
        "# plot top-5 valid high-performance simulations by calculated amount of enthalpy (cumulated)\n",
        "\n",
        "inputs_results_main30yr_P_usable_cum_valid = inputs_results_main30yr_P_usable[inputs_results_main30yr_P_usable['pin'].isin(valid_pins)]\n",
        "top5_P_usable_cum_valid = inputs_results_main30yr_P_usable_cum_valid.sort_values(by='P_usable_cum', ascending=False).head(5)\n",
        "\n",
        "for time_step in range(0,3000,25):\n",
        "  sns.scatterplot(data=top5_P_usable_cum_valid, x=time_step/100, y=top5_P_usable_cum_valid['P_usable'+f':{time_step/100:,.3f}'], hue=top5_P_usable_cum_valid['pin'], legend=False)\n",
        "\n",
        "plt.ylabel('P_usable')\n",
        "plt.show()\n",
        "\n",
        "print('Top-5 high-performance simulation: ', top5_P_usable_cum_valid['pin'])\n"
      ],
      "metadata": {
        "id": "nZW47lVElakZ"
      },
      "execution_count": null,
      "outputs": []
    },
    {
      "cell_type": "code",
      "source": [
        "# plot high-performance simulation by calculated amount of enthalpy\n",
        "\n",
        "top_P_usable_cum_valid_high = top5_P_usable_cum_valid.head(1)\n",
        "\n",
        "for time_step in range(0,3000,25):\n",
        "  sns.scatterplot(data=top_P_usable_cum_valid_high, x=time_step/100, y=top_P_usable_cum_valid_high['P_usable'+f':{time_step/100:,.3f}'], hue=top_P_usable_cum_valid_high['pin'], legend=False)\n",
        "\n",
        "plt.ylabel('P_usable')\n",
        "plt.show()\n",
        "\n",
        "print('High-performance simulation: ', top_P_usable_cum_valid_high['pin'])\n"
      ],
      "metadata": {
        "id": "MXpJ7B_KXOWA"
      },
      "execution_count": null,
      "outputs": []
    },
    {
      "cell_type": "code",
      "source": [
        "# plot bottom-5 valid low-performance simulations by calculated amount of enthalpy (cumulated)\n",
        "btm5_P_usable_cum_valid = inputs_results_main30yr_P_usable_cum_valid.sort_values(by='P_usable_cum', ascending=False).tail(5)\n",
        "\n",
        "for time_step in range(0,3000,25):\n",
        "  sns.scatterplot(data=btm5_P_usable_cum_valid, x=time_step/100, y=btm5_P_usable_cum_valid['P_usable'+f':{time_step/100:,.3f}'], hue=btm5_P_usable_cum_valid['pin'], legend=False)\n",
        "\n",
        "plt.ylabel('P_usable')\n",
        "plt.show()\n",
        "\n",
        "print('Bottom-5 low-performance simulation: ', btm5_P_usable_cum_valid['pin'])\n"
      ],
      "metadata": {
        "id": "9Fg8aCO8WkHe"
      },
      "execution_count": null,
      "outputs": []
    },
    {
      "cell_type": "code",
      "source": [
        "# plot low-performance simulation by calculated amount of enthalpy\n",
        "\n",
        "btm_P_usable_cum_valid_low = btm5_P_usable_cum_valid.tail(1)\n",
        "\n",
        "for time_step in range(0,3000,25):\n",
        "  sns.scatterplot(data=btm_P_usable_cum_valid_low, x=time_step/100, y=btm_P_usable_cum_valid_low['P_usable'+f':{time_step/100:,.3f}'], hue=btm_P_usable_cum_valid_low['pin'], legend=False)\n",
        "\n",
        "plt.ylabel('P_usable')\n",
        "plt.show()\n",
        "\n",
        "print('Low performance simulation: ', btm_P_usable_cum_valid_low['pin'])\n"
      ],
      "metadata": {
        "id": "fCh8dixhX43F"
      },
      "execution_count": null,
      "outputs": []
    },
    {
      "cell_type": "code",
      "source": [
        "print('High performance simulation well spacing: ', list(inputs_results_main30yr[inputs_results_main30yr['pin'] == 299774151]['w_spacing']))\n",
        "print('Low performance simulation well spacing: ', list(inputs_results_main30yr[inputs_results_main30yr['pin'] == 374070519]['w_spacing']))\n"
      ],
      "metadata": {
        "id": "JK6pHS0lXD9M"
      },
      "execution_count": null,
      "outputs": []
    },
    {
      "cell_type": "markdown",
      "source": [
        "### Timeseries with Losses"
      ],
      "metadata": {
        "id": "wd68hOcXM5xv"
      }
    },
    {
      "cell_type": "code",
      "source": [
        "# P_usable = 0.13 * (dhout + (h_95C - h_120C - v5 * (Pinj - Pwhp)) * mpro)\n",
        "inputs_results_main30yr_P_usable_loss = inputs_results_main30yr_P_usable.copy()\n",
        "\n",
        "for time_step in range(0,3000,25):\n",
        "  inputs_results_main30yr_P_usable_loss['P_usable_loss'+f':{time_step/100:,.3f}'] =\\\n",
        "  0.13 * (inputs_results_main30yr_P_usable_loss['dhout'+f':{time_step/100:,.3f}'] +\\\n",
        "          (h_95C - h_120C - inputs_results_main30yr_P_usable_loss['v5'] *\\\n",
        "           abs(inputs_results_main30yr_P_usable_loss['pinj'] -\\\n",
        "            inputs_results_main30yr_P_usable_loss['p_whp'])) *\\\n",
        "          inputs_results_main30yr_P_usable_loss['mpro'])\n",
        "\n",
        "inputs_results_main30yr_P_usable_loss.head(3)"
      ],
      "metadata": {
        "id": "sDO_ZCaB_FVB"
      },
      "execution_count": null,
      "outputs": []
    },
    {
      "cell_type": "code",
      "source": [
        "# plot top-5 simulations by calculated amount of enthalpy (with losses)\n",
        "cols_p_usable = [c for c in inputs_results_main30yr_P_usable_loss.columns if c[:4] == 'pin' or c[:13] == 'P_usable_loss']\n",
        "inputs_results_main30yr_P_usable_loss_x = inputs_results_main30yr_P_usable_loss[cols_p_usable]\n",
        "top5 = inputs_results_main30yr_P_usable_loss_x.sort_values(by=inputs_results_main30yr_P_usable_loss_x.columns[-1], ascending=False).head(5)\n",
        "\n",
        "for time_step in range(0,3000,25):\n",
        "  sns.scatterplot(data=top5, x=time_step/100, y=top5['P_usable_loss'+f':{time_step/100:,.3f}'], hue=top5['pin'], legend=False)\n",
        "\n",
        "plt.ylabel('P_usable_loss')\n",
        "plt.show()\n"
      ],
      "metadata": {
        "id": "APdg6AyMDbQr"
      },
      "execution_count": null,
      "outputs": []
    },
    {
      "cell_type": "code",
      "source": [
        "# see the number of calculated amount of enthalpy (with losses) simulations with all-time unchanged data\n",
        "duplicates = 20\n",
        "\n",
        "valid_pins = []\n",
        "for index, row in inputs_results_main30yr_P_usable_loss_x.iterrows():\n",
        "  if row.nunique() > len(row)-duplicates and row[-1] > 0: # and row[1] > 100:\n",
        "    valid_pins.append(row[0])\n",
        "  else:\n",
        "    pass\n",
        "len(valid_pins)\n"
      ],
      "metadata": {
        "id": "3hPQRlOaFXoZ"
      },
      "execution_count": null,
      "outputs": []
    },
    {
      "cell_type": "code",
      "source": [
        "# plot top-5 valid high-performance simulations by calculated amount of enthalpy (with losses)\n",
        "inputs_results_main30yr_P_usable_loss_valid = inputs_results_main30yr_P_usable_loss[inputs_results_main30yr_P_usable_loss['pin'].isin(valid_pins)]\n",
        "top5_P_usable_loss_valid = inputs_results_main30yr_P_usable_loss_valid.sort_values(by=inputs_results_main30yr_P_usable_loss_valid.columns[-1], ascending=False).head(5)\n",
        "\n",
        "for time_step in range(0,3000,25):\n",
        "  sns.scatterplot(data=top5_P_usable_loss_valid, x=time_step/100, y=top5_P_usable_loss_valid['P_usable_loss'+f':{time_step/100:,.3f}'], hue=top5_P_usable_loss_valid['pin'], legend=False)\n",
        "\n",
        "plt.ylabel('P_usable_loss')\n",
        "plt.show()\n",
        "\n",
        "print('Top-5 high-performance simulation: ', top5_P_usable_loss_valid['pin'])\n"
      ],
      "metadata": {
        "id": "4ooKu4rhFsmU"
      },
      "execution_count": null,
      "outputs": []
    },
    {
      "cell_type": "code",
      "source": [
        "# plot high-performance simulation by calculated amount of enthalpy (with losses)\n",
        "\n",
        "top_P_usable_loss_valid_high = inputs_results_main30yr_P_usable_loss_valid.sort_values(by=inputs_results_main30yr_P_usable_loss_valid.columns[-1], ascending=False).head(1)\n",
        "\n",
        "for time_step in range(0,3000,25):\n",
        "  sns.scatterplot(data=top_P_usable_loss_valid_high, x=time_step/100, y=top_P_usable_loss_valid_high['P_usable_loss'+f':{time_step/100:,.3f}'], hue=top_P_usable_loss_valid_high['pin'], legend=False)\n",
        "\n",
        "plt.ylabel('P_usable_loss')\n",
        "plt.show()\n",
        "\n",
        "print('High-performance simulation: ', top_P_usable_loss_valid_high['pin'])\n"
      ],
      "metadata": {
        "id": "dhHUnLw1NXsK"
      },
      "execution_count": null,
      "outputs": []
    },
    {
      "cell_type": "code",
      "source": [
        "# plot bottom-5 valid low-performance simulations by calculated amount of enthalpy (with losses)\n",
        "\n",
        "inputs_results_main30yr_P_usable_loss_valid = inputs_results_main30yr_P_usable_loss[inputs_results_main30yr_P_usable_loss['pin'].isin(valid_pins)]\n",
        "btm5_P_usable_loss_valid = inputs_results_main30yr_P_usable_loss_valid.sort_values(by=inputs_results_main30yr_P_usable_loss_valid.columns[-1], ascending=False).tail(5)\n",
        "\n",
        "for time_step in range(0,3000,25):\n",
        "  sns.scatterplot(data=btm5_P_usable_loss_valid, x=time_step/100, y=btm5_P_usable_loss_valid['P_usable_loss'+f':{time_step/100:,.3f}'], hue=btm5_P_usable_loss_valid['pin'], legend=False)\n",
        "\n",
        "plt.ylabel('P_usable_loss')\n",
        "plt.show()\n",
        "\n",
        "print('Bottom-5 low-performance simulation: ', btm5_P_usable_loss_valid['pin'])\n"
      ],
      "metadata": {
        "id": "7O13lTvSR94L"
      },
      "execution_count": null,
      "outputs": []
    },
    {
      "cell_type": "code",
      "source": [
        "# plot low-performance simulation by calculated amount of enthalpy (with losses)\n",
        "\n",
        "btm_P_usable_loss_valid_low = inputs_results_main30yr_P_usable_loss_valid.sort_values(by=inputs_results_main30yr_P_usable_loss_valid.columns[-1], ascending=False).tail(1)\n",
        "\n",
        "for time_step in range(0,3000,25):\n",
        "  sns.scatterplot(data=btm_P_usable_loss_valid_low, x=time_step/100, y=btm_P_usable_loss_valid_low['P_usable_loss'+f':{time_step/100:,.3f}'], hue=btm_P_usable_loss_valid_low['pin'], legend=False)\n",
        "\n",
        "plt.ylabel('P_usable_loss')\n",
        "plt.show()\n",
        "\n",
        "print('Low performance simulation: ', btm_P_usable_loss_valid_low['pin'])\n"
      ],
      "metadata": {
        "id": "qVzswlxXSTns"
      },
      "execution_count": null,
      "outputs": []
    },
    {
      "cell_type": "code",
      "source": [
        "print('High performance simulation well spacing: ', list(inputs_results_main30yr[inputs_results_main30yr['pin'] == 299774151]['w_spacing']))\n",
        "print('Low performance simulation well spacing: ', list(inputs_results_main30yr[inputs_results_main30yr['pin'] == 569132087]['w_spacing']))\n"
      ],
      "metadata": {
        "id": "MgxSCMBnSX8q"
      },
      "execution_count": null,
      "outputs": []
    },
    {
      "cell_type": "markdown",
      "source": [
        "# Boosting algorithm application"
      ],
      "metadata": {
        "id": "-1NJ8lGs4_Nj"
      }
    },
    {
      "cell_type": "code",
      "source": [
        "f, ax = plt.subplots(figsize=(5,3))\n",
        "\n",
        "sns.histplot(inputs_results_main30yr_P_usable_loss['P_usable_cum'], ax=ax)\n",
        "\n",
        "plt.axvline(1540, c='r')\n",
        "plt.axvline(4390, c='r')\n",
        "plt.axvline(11500, c='r')\n",
        "plt.xlim(0, 100000)\n",
        "plt.show()\n"
      ],
      "metadata": {
        "id": "IGiVopoFbBsF"
      },
      "execution_count": null,
      "outputs": []
    },
    {
      "cell_type": "code",
      "source": [
        "# Create categories\n",
        "P_usable_cat1 = inputs_results_main30yr_P_usable_loss[inputs_results_main30yr_P_usable_loss['P_usable_cum'].between(1, 1540)]\n",
        "P_usable_cat2 = inputs_results_main30yr_P_usable_loss[inputs_results_main30yr_P_usable_loss['P_usable_cum'].between(1540, 4390)]\n",
        "P_usable_cat3 = inputs_results_main30yr_P_usable_loss[inputs_results_main30yr_P_usable_loss['P_usable_cum'].between(4390, 11500)]\n",
        "P_usable_cat4 = inputs_results_main30yr_P_usable_loss[inputs_results_main30yr_P_usable_loss['P_usable_cum'].between(11500, 100000)]\n",
        "\n",
        "P_usable_cat1['P_usable_cum_cat'] = 1\n",
        "P_usable_cat2['P_usable_cum_cat'] = 2\n",
        "P_usable_cat3['P_usable_cum_cat'] = 3\n",
        "P_usable_cat4['P_usable_cum_cat'] = 4\n",
        "\n",
        "P_usable_cat1_2 = P_usable_cat1.append(P_usable_cat2)\n",
        "P_usable_cat3_4 = P_usable_cat3.append(P_usable_cat4)\n",
        "\n",
        "inputs_results_main30yr_P_usable_loss_cat = P_usable_cat1_2.append(P_usable_cat3_4).sort_index()\n"
      ],
      "metadata": {
        "id": "IwaG6Y1LYlfe"
      },
      "execution_count": null,
      "outputs": []
    },
    {
      "cell_type": "code",
      "source": [
        "# Prepare the data. Remove objective function components and timeseries\n",
        "X = inputs_results_main30yr_P_usable_loss_cat.copy()\n",
        "\n",
        "for time_step in range(0,3000,25):\n",
        "  X.drop(columns={'Pout'+f':{time_step/100:,.3f}', 'dhout'+f':{time_step/100:,.3f}',\\\n",
        "                  'hpro'+f':{time_step/100:,.3f}', 'P_usable'+f':{time_step/100:,.3f}',\\\n",
        "                  'P_usable_loss'+f':{time_step/100:,.3f}'}, inplace=True)\n",
        "  \n",
        "X.drop(columns={'v5', 'pinj', 'p_whp', 'mpro', 'P_usable_cum', 'P_usable_cum_cat'}, inplace=True)\n",
        "y = inputs_results_main30yr_P_usable_loss_cat['P_usable_cum_cat']\n",
        "\n",
        "X_train, X_valid, y_train, y_valid = train_test_split(X, y, test_size=0.2,\n",
        "                                                      random_state=rnd_state)\n",
        "print(X_train.shape)\n",
        "print(X_valid.shape)\n",
        "print(y_train.shape)\n",
        "print(y_valid.shape)\n"
      ],
      "metadata": {
        "id": "qCvHiDx_Ylff"
      },
      "execution_count": null,
      "outputs": []
    },
    {
      "cell_type": "code",
      "source": [
        "model_cbc = CatBoostClassifier(\n",
        "    iterations=100,\n",
        "    random_seed=rnd_state,\n",
        "    learning_rate=0.2)\n"
      ],
      "metadata": {
        "id": "BSd64dqHYlff"
      },
      "execution_count": null,
      "outputs": []
    },
    {
      "cell_type": "code",
      "source": [
        "%%time\n",
        "start = time.time()\n",
        "model_cbc.fit(\n",
        "    X_train, y_train,\n",
        "    eval_set=(X_valid, y_valid),\n",
        "    verbose=False,\n",
        "    plot=True)\n",
        "end = time.time()\n",
        "catboost_time = end - start\n"
      ],
      "metadata": {
        "id": "ZFz8RcCnYlff"
      },
      "execution_count": null,
      "outputs": []
    },
    {
      "cell_type": "code",
      "source": [
        "start = time.time()\n",
        "y_pred = model_cbc.predict(X_valid)\n",
        "end = time.time()\n",
        "catboost_time_predicting = end - start\n",
        "\n",
        "print('Score: ', f1_score(y_valid, y_pred, average='macro'))\n",
        "print('Learning time: ', catboost_time)\n",
        "print('Prediction time: ', catboost_time_predicting)\n"
      ],
      "metadata": {
        "id": "PWvtzjbDYlfg"
      },
      "execution_count": null,
      "outputs": []
    },
    {
      "cell_type": "code",
      "source": [
        "feature_importance = model_cbc.feature_importances_\n",
        "sorted_idx = np.argsort(feature_importance)\n",
        "\n",
        "fig = plt.figure(figsize=(8, 30))\n",
        "\n",
        "plt.barh(range(len(sorted_idx)), feature_importance[sorted_idx], align='center')\n",
        "plt.yticks(range(len(sorted_idx)), np.array(X_valid.columns)[sorted_idx])\n",
        "plt.title('Feature Importance')\n",
        "\n",
        "print(np.array(X_valid.columns)[sorted_idx][:-15:-1])\n"
      ],
      "metadata": {
        "id": "Or0PS3qRYlfg"
      },
      "execution_count": null,
      "outputs": []
    },
    {
      "cell_type": "code",
      "source": [
        "feature_importance[sorted_idx][feature_importance[sorted_idx] > 1]"
      ],
      "metadata": {
        "id": "CfTaI2iLYlfg"
      },
      "execution_count": null,
      "outputs": []
    },
    {
      "cell_type": "code",
      "source": [
        "base_params = np.array(X_valid.columns)[sorted_idx][:-15:-1].tolist()\n",
        "base_params.append(inputs_results_main30yr_P_usable_loss_cat.columns[-1])\n",
        "inputs_results_main30yr_P_usable_loss_cat[base_params].groupby('P_usable_cum_cat').mean()\n"
      ],
      "metadata": {
        "id": "lo6Mgf-pYlfg"
      },
      "execution_count": null,
      "outputs": []
    },
    {
      "cell_type": "code",
      "source": [
        "base_params_plots('qpro', title='Cumulative production rate, m3/s', xlim_hist=(-0.4, 0.1), ylim_hist=None, ylim=(-0.4, 0.1))\n",
        "base_params_plots('recovery', title='Production rate/Injection rate ratio', xlim_hist=(-2, 0), ylim_hist=(0, 500), ylim=(-2, 0))\n",
        "base_params_plots('w_spacing', title='Well spacing, m', xlim_hist=None, ylim_hist=None, ylim=None)\n",
        "base_params_plots('qinj', title='Cumulative injection rate, m3/s', xlim_hist=(0, 0.4), ylim_hist=None, ylim=(0, 0.4))\n",
        "base_params_plots('r_perf', title='Perforation radus, m', xlim_hist=None, ylim_hist=None, ylim=None)\n",
        "base_params_plots('dia_last', title='Final diameter of freshest fracture, m', xlim_hist=(0, 9000), ylim_hist=None, ylim=(0, 9000))\n",
        "base_params_plots('nfstim', title='Number of stimulated natural fractures', xlim_hist=(0, 9), ylim_hist=None, ylim=(0, 9))\n",
        "base_params_plots('qleak', title=' Boundary outflow rate, m3/s', xlim_hist=(-0.1, 0), ylim_hist=(0, 500), ylim=(-0.1, 0))\n",
        "base_params_plots('w_intervals', title='Well intervals, zones', xlim_hist=None, ylim_hist=None, ylim=None)\n",
        "base_params_plots('ixint', title='Number of fractures intercepting injectors', xlim_hist=None, ylim_hist=None, ylim=None)\n",
        "base_params_plots('hinj', title='Enthalpy of injected fluid, kj/kg', xlim_hist=None, ylim_hist=None, ylim=None)\n",
        "base_params_plots('Tinj', title='Injection temperature, degC', xlim_hist=None, ylim_hist=None, ylim=None)\n",
        "base_params_plots('dE0', title='Initial thermal energy withdraw, kj/m2', xlim_hist=None, ylim_hist=None, ylim=None)\n",
        "base_params_plots('Qinj', title='Circulation flow rate, m3/s', xlim_hist=None, ylim_hist=None, ylim=None)\n"
      ],
      "metadata": {
        "id": "yp_gnmDyYlfg"
      },
      "execution_count": null,
      "outputs": []
    },
    {
      "cell_type": "markdown",
      "source": [
        "# Optimal parameters actualization (20 year span)"
      ],
      "metadata": {
        "id": "Zw5pGDwTWXGx"
      }
    },
    {
      "cell_type": "code",
      "source": [
        "inputs_results_medium20yr = pd.read_csv('datasets/inputs_results_FORGE_medium20yr.csv')\n",
        "\n",
        "inputs_results_medium20yr_P_usable = inputs_results_medium20yr.copy()\n",
        "\n",
        "for time_step in range(0, 20000000, round(20000000/61)):\n",
        "  inputs_results_medium20yr_P_usable['P_usable'+f':{time_step/1000000:,.3f}'] = 0.13 * (inputs_results_medium20yr_P_usable['dhout'+f':{time_step/1000000:,.3f}'] + (h_95C - h_120C) * inputs_results_medium20yr_P_usable['mpro'])\n",
        "\n",
        "inputs_results_medium20yr_P_usable.head(3)\n"
      ],
      "metadata": {
        "id": "Ez0pBwASYhgc"
      },
      "execution_count": null,
      "outputs": []
    },
    {
      "cell_type": "code",
      "source": [
        "P_usable_cum_dict = pd.DataFrame(columns=['pin', 'P_usable_cum'])\n",
        "\n",
        "for index, row in inputs_results_medium20yr_P_usable.iterrows():\n",
        "  P_usable_cum = 0\n",
        "  for time_step in range(0, 20000000, round(20000000/61)):\n",
        "    P_usable_cum += row['P_usable'+f':{time_step/1000000:,.3f}']\n",
        "  P_usable_cum_dict = P_usable_cum_dict.append({'pin': row['pin'], 'P_usable_cum': P_usable_cum / 20}, ignore_index=True)\n",
        "\n",
        "inputs_results_medium20yr_P_usable = pd.merge(inputs_results_medium20yr_P_usable, P_usable_cum_dict, on='pin')\n"
      ],
      "metadata": {
        "id": "I2m2sV2zcrHx"
      },
      "execution_count": null,
      "outputs": []
    },
    {
      "cell_type": "code",
      "source": [
        "P_usable_cat1 = inputs_results_medium20yr_P_usable[inputs_results_medium20yr_P_usable['P_usable_cum'].between(1, 1540)]\n",
        "P_usable_cat2 = inputs_results_medium20yr_P_usable[inputs_results_medium20yr_P_usable['P_usable_cum'].between(1540, 4390)]\n",
        "P_usable_cat3 = inputs_results_medium20yr_P_usable[inputs_results_medium20yr_P_usable['P_usable_cum'].between(4390, 11500)]\n",
        "P_usable_cat4 = inputs_results_medium20yr_P_usable[inputs_results_medium20yr_P_usable['P_usable_cum'].between(11500, 100000)]\n",
        "\n",
        "f, ax = plt.subplots(1, 2, figsize=(15,5))\n",
        "sns.boxplot(data=pd.DataFrame({'<3000 kJ/s': P_usable_cat1['w_spacing'], '3000-10000 kJ/s': P_usable_cat2['w_spacing'],\\\n",
        "                               '10000-50000 kJ/s': P_usable_cat3['w_spacing'], '>50000 kJ/s': P_usable_cat4['w_spacing']}), ax=ax[0])\n",
        "sns.histplot(data=pd.DataFrame({'<3000 kJ/s': P_usable_cat1['w_spacing'], '3000-10000 kJ/s': P_usable_cat2['w_spacing'],\\\n",
        "                               '10000-50000 kJ/s': P_usable_cat3['w_spacing'], '>50000 kJ/s': P_usable_cat4['w_spacing']}), multiple='stack', ax=ax[1])\n",
        "ax[0].set(xlabel='P_usable_cum', ylabel='w_spacing')\n",
        "ax[1].set(xlabel='w_spacing')\n",
        "\n",
        "plt.show()\n"
      ],
      "metadata": {
        "id": "4WoC8Sr9YE_i"
      },
      "execution_count": null,
      "outputs": []
    },
    {
      "cell_type": "code",
      "source": [
        "f, ax = plt.subplots(figsize=(5,3))\n",
        "\n",
        "sns.histplot(inputs_results_medium20yr_P_usable['P_usable_cum'], ax=ax)\n",
        "\n",
        "plt.axvline(1540, c='r')\n",
        "plt.axvline(4390, c='r')\n",
        "plt.axvline(11500, c='r')\n",
        "plt.xlim(0, 100000)\n",
        "plt.show()\n"
      ],
      "metadata": {
        "id": "Wn5L80nughtN"
      },
      "execution_count": null,
      "outputs": []
    },
    {
      "cell_type": "code",
      "source": [
        "P_usable_cat1['P_usable_cum_cat'] = 1\n",
        "P_usable_cat2['P_usable_cum_cat'] = 2\n",
        "P_usable_cat3['P_usable_cum_cat'] = 3\n",
        "P_usable_cat4['P_usable_cum_cat'] = 4\n",
        "\n",
        "P_usable_cat1_2 = P_usable_cat1.append(P_usable_cat2)\n",
        "P_usable_cat3_4 = P_usable_cat3.append(P_usable_cat4)\n",
        "\n",
        "inputs_results_medium20yr_P_usable_cat = P_usable_cat1_2.append(P_usable_cat3_4).sort_index()\n"
      ],
      "metadata": {
        "id": "NQ_OA2epgF14"
      },
      "execution_count": null,
      "outputs": []
    },
    {
      "cell_type": "code",
      "source": [
        "base_params_plots('qpro', title='Cumulative production rate, m3/s', xlim_hist=(-0.4, 0.1), ylim_hist=None, ylim=None)\n",
        "base_params_plots('recovery', title='Production rate/Injection rate ratio', xlim_hist=(-2, 0), ylim_hist=None, ylim=None)\n",
        "base_params_plots('w_spacing', title='Well spacing, m', xlim_hist=None, ylim_hist=None, ylim=None)\n",
        "base_params_plots('qinj', title='Cumulative injection rate, m3/s', xlim_hist=(0, 0.4), ylim_hist=None, ylim=None)\n",
        "base_params_plots('r_perf', title='Perforation radus, m', xlim_hist=None, ylim_hist=None, ylim=None)\n",
        "base_params_plots('dia_last', title='Final diameter of freshest fracture, m', xlim_hist=(0, 9000), ylim_hist=None, ylim=None)\n",
        "base_params_plots('nfstim', title='Number of stimulated natural fractures', xlim_hist=(0, 9), ylim_hist=None, ylim=None)\n",
        "base_params_plots('qleak', title=' Boundary outflow rate, m3/s', xlim_hist=(-0.1, 0), ylim_hist=None, ylim=None)\n",
        "base_params_plots('w_intervals', title='Well intervals, zones', xlim_hist=None, ylim_hist=None, ylim=None)\n",
        "base_params_plots('ixint', title='Number of fractures intercepting injectors', xlim_hist=None, ylim_hist=None, ylim=None)\n",
        "base_params_plots('hinj', title='Enthalpy of injected fluid, kj/kg', xlim_hist=None, ylim_hist=None, ylim=None)\n",
        "base_params_plots('Tinj', title='Injection temperature, degC', xlim_hist=None, ylim_hist=None, ylim=None)\n",
        "base_params_plots('dE0', title='Initial thermal energy withdraw, kj/m2', xlim_hist=None, ylim_hist=None, ylim=None)\n",
        "base_params_plots('Qinj', title='Circulation flow rate, m3/s', xlim_hist=None, ylim_hist=None, ylim=None)\n"
      ],
      "metadata": {
        "id": "zN-k7rlFhJSC"
      },
      "execution_count": null,
      "outputs": []
    },
    {
      "cell_type": "markdown",
      "source": [
        "# Optimal parameters actualization (1 year span)"
      ],
      "metadata": {
        "id": "0gwAZ0h7oMCe"
      }
    },
    {
      "cell_type": "code",
      "source": [
        "inputs_results_short1yr = pd.read_csv('datasets/inputs_results_FORGE_short1yr.csv')\n",
        "\n",
        "inputs_results_short1yr_P_usable = inputs_results_short1yr.copy()\n",
        "\n",
        "for time_step in range(0, 1000000, round(10000000/61)):\n",
        "  inputs_results_short1yr_P_usable['P_usable'+f':{time_step/1000000:,.3f}'] = 0.13 * (inputs_results_short1yr_P_usable['dhout'+f':{time_step/1000000:,.3f}'] + (h_95C - h_120C) * inputs_results_short1yr_P_usable['mpro'])\n",
        "\n",
        "inputs_results_short1yr_P_usable.head(3)\n"
      ],
      "metadata": {
        "id": "a9KbEChIoS28"
      },
      "execution_count": null,
      "outputs": []
    },
    {
      "cell_type": "code",
      "source": [
        "P_usable_cum_dict = pd.DataFrame(columns=['pin', 'P_usable_cum'])\n",
        "\n",
        "for index, row in inputs_results_short1yr_P_usable.iterrows():\n",
        "  P_usable_cum = 0\n",
        "  for time_step in range(0, 1000000, round(10000000/61)):\n",
        "    P_usable_cum += row['P_usable'+f':{time_step/1000000:,.3f}']\n",
        "  P_usable_cum_dict = P_usable_cum_dict.append({'pin': row['pin'], 'P_usable_cum': P_usable_cum}, ignore_index=True)\n",
        "\n",
        "inputs_results_short1yr_P_usable = pd.merge(inputs_results_short1yr_P_usable, P_usable_cum_dict, on='pin')\n"
      ],
      "metadata": {
        "id": "dF5M42-IoS29"
      },
      "execution_count": null,
      "outputs": []
    },
    {
      "cell_type": "code",
      "source": [
        "P_usable_cat1 = inputs_results_short1yr_P_usable[inputs_results_short1yr_P_usable['P_usable_cum'].between(1, 1540)]\n",
        "P_usable_cat2 = inputs_results_short1yr_P_usable[inputs_results_short1yr_P_usable['P_usable_cum'].between(1540, 4390)]\n",
        "P_usable_cat3 = inputs_results_short1yr_P_usable[inputs_results_short1yr_P_usable['P_usable_cum'].between(4390, 11500)]\n",
        "P_usable_cat4 = inputs_results_short1yr_P_usable[inputs_results_short1yr_P_usable['P_usable_cum'].between(11500, 100000)]\n",
        "\n",
        "f, ax = plt.subplots(1, 2, figsize=(15,5))\n",
        "sns.boxplot(data=pd.DataFrame({'<3000 kJ/s': P_usable_cat1['w_spacing'], '3000-10000 kJ/s': P_usable_cat2['w_spacing'],\\\n",
        "                               '10000-50000 kJ/s': P_usable_cat3['w_spacing'], '>50000 kJ/s': P_usable_cat4['w_spacing']}), ax=ax[0])\n",
        "sns.histplot(data=pd.DataFrame({'<3000 kJ/s': P_usable_cat1['w_spacing'], '3000-10000 kJ/s': P_usable_cat2['w_spacing'],\\\n",
        "                               '10000-50000 kJ/s': P_usable_cat3['w_spacing'], '>50000 kJ/s': P_usable_cat4['w_spacing']}), multiple='stack', ax=ax[1])\n",
        "ax[0].set(xlabel='P_usable_cum', ylabel='w_spacing')\n",
        "ax[1].set(xlabel='w_spacing')\n",
        "\n",
        "plt.show()\n"
      ],
      "metadata": {
        "id": "mHBuHnM9oS2-"
      },
      "execution_count": null,
      "outputs": []
    },
    {
      "cell_type": "code",
      "source": [
        "f, ax = plt.subplots(figsize=(5,3))\n",
        "\n",
        "sns.histplot(inputs_results_short1yr_P_usable['P_usable_cum'], ax=ax)\n",
        "\n",
        "plt.axvline(1540, c='r')\n",
        "plt.axvline(4390, c='r')\n",
        "plt.axvline(11500, c='r')\n",
        "plt.xlim(0, 100000)\n",
        "plt.show()\n"
      ],
      "metadata": {
        "id": "epwsH11DoS2-"
      },
      "execution_count": null,
      "outputs": []
    },
    {
      "cell_type": "code",
      "source": [
        "P_usable_cat1['P_usable_cum_cat'] = 1\n",
        "P_usable_cat2['P_usable_cum_cat'] = 2\n",
        "P_usable_cat3['P_usable_cum_cat'] = 3\n",
        "P_usable_cat4['P_usable_cum_cat'] = 4\n",
        "\n",
        "P_usable_cat1_2 = P_usable_cat1.append(P_usable_cat2)\n",
        "P_usable_cat3_4 = P_usable_cat3.append(P_usable_cat4)\n",
        "\n",
        "inputs_results_short1yr_P_usable_cat = P_usable_cat1_2.append(P_usable_cat3_4).sort_index()\n"
      ],
      "metadata": {
        "id": "khL-c6LToS2-"
      },
      "execution_count": null,
      "outputs": []
    },
    {
      "cell_type": "code",
      "source": [
        "base_params_plots('qpro', title='Cumulative production rate, m3/s', xlim_hist=(-0.4, 0.1), ylim_hist=None, ylim=None)\n",
        "base_params_plots('recovery', title='Production rate/Injection rate ratio', xlim_hist=(-2, 0), ylim_hist=None, ylim=None)\n",
        "base_params_plots('w_spacing', title='Well spacing, m', xlim_hist=None, ylim_hist=None, ylim=None)\n",
        "base_params_plots('qinj', title='Cumulative injection rate, m3/s', xlim_hist=(0, 0.4), ylim_hist=None, ylim=None)\n",
        "base_params_plots('r_perf', title='Perforation radus, m', xlim_hist=None, ylim_hist=None, ylim=None)\n",
        "base_params_plots('dia_last', title='Final diameter of freshest fracture, m', xlim_hist=(0, 9000), ylim_hist=None, ylim=None)\n",
        "base_params_plots('nfstim', title='Number of stimulated natural fractures', xlim_hist=(0, 9), ylim_hist=None, ylim=None)\n",
        "base_params_plots('qleak', title=' Boundary outflow rate, m3/s', xlim_hist=(-0.1, 0), ylim_hist=None, ylim=None)\n",
        "base_params_plots('w_intervals', title='Well intervals, zones', xlim_hist=None, ylim_hist=None, ylim=None)\n",
        "base_params_plots('ixint', title='Number of fractures intercepting injectors', xlim_hist=None, ylim_hist=None, ylim=None)\n",
        "base_params_plots('hinj', title='Enthalpy of injected fluid, kj/kg', xlim_hist=None, ylim_hist=None, ylim=None)\n",
        "base_params_plots('Tinj', title='Injection temperature, degC', xlim_hist=None, ylim_hist=None, ylim=None)\n",
        "base_params_plots('dE0', title='Initial thermal energy withdraw, kj/m2', xlim_hist=None, ylim_hist=None, ylim=None)\n",
        "base_params_plots('Qinj', title='Circulation flow rate, m3/s', xlim_hist=None, ylim_hist=None, ylim=None)\n"
      ],
      "metadata": {
        "id": "TNNS0lwcoS2_"
      },
      "execution_count": null,
      "outputs": []
    },
    {
      "cell_type": "code",
      "source": [
        "P30 = inputs_results_main30yr_P_usable_loss['P_usable_cum']\n",
        "P20 = inputs_results_medium20yr_P_usable['P_usable_cum']\n",
        "P1 = inputs_results_short1yr_P_usable['P_usable_cum']\n",
        "\n",
        "f, ax = plt.subplots(1, 1, figsize=(5,8))\n",
        "sns.boxplot(data=pd.DataFrame({'P30': P30, 'P20': P20, 'P1': P1}), ax=ax)\n",
        "\n",
        "ax.set(xlabel='w_spacing', ylim=(-50000, 100000))\n",
        "\n",
        "plt.show()\n"
      ],
      "metadata": {
        "id": "1WHjcekDswq1"
      },
      "execution_count": null,
      "outputs": []
    },
    {
      "cell_type": "code",
      "source": [
        "base_params_plots('w_spacing', title='Well spacing, m', xlim_hist=(0, 1000), ylim_hist=None, ylim=(0, 1000))\n",
        "base_params_plots('w_length', title='Well length, m', xlim_hist=(1100, 1120), ylim_hist=None, ylim=(1100, 1120))\n",
        "base_params_plots('w_azimuth', title='Well azimuth, deg', xlim_hist=(1.825, 1.850), ylim_hist=None, ylim=(1.825, 1.850))\n",
        "base_params_plots('w_dip', title='Well dip, deg', xlim_hist=(0.43, 0.44), ylim_hist=None, ylim=(0.43, 0.44))\n",
        "base_params_plots('w_skew', title='Well skew, deg', xlim_hist=(-0.2, 0.2), ylim_hist=None, ylim=(-0.2, 0.2))\n",
        "base_params_plots('w_count', title='Well count, wells', xlim_hist=(0, 2), ylim_hist=None, ylim=(0, 2))\n",
        "base_params_plots('w_toe', title='Well toe, deg', xlim_hist=(-0.1, 0.1), ylim_hist=None, ylim=(-0.1, 0.1))\n",
        "base_params_plots('w_proportion', title='Well proportion, deg', xlim_hist=(0.7, 1.2), ylim_hist=None, ylim=(0.7, 1.2))\n",
        "base_params_plots('w_phase', title='Well phase, deg', xlim_hist=(0, 6), ylim_hist=None, ylim=(0, 6))\n",
        "base_params_plots('w_intervals', title='Well intervals, zones', xlim_hist=(0, 7), ylim_hist=None, ylim=(0, 7))\n"
      ],
      "metadata": {
        "id": "enyqYfZl-hrO"
      },
      "execution_count": null,
      "outputs": []
    },
    {
      "cell_type": "markdown",
      "source": [
        "### Next steps:\n",
        "* try categories by P_usable\n",
        "* try categories by P_usable_loss\n",
        "* try categories by P_out\n",
        "* hist/bp in P_usable_cat, P_usable_loss_cut, P_out_cat\n"
      ],
      "metadata": {
        "id": "DEsutuM8Mo42"
      }
    },
    {
      "cell_type": "code",
      "source": [
        "# Integral calc\n",
        "# P_usable = 1 / 30 * \\int^{30}_{0} 0.13 * (dhout + (h_95C - h_120C) * mpro) dt\n",
        "P_usable_cum_dict = pd.DataFrame(columns=['pin', 'P_usable_cum'])\n",
        "\n",
        "for index, row in inputs_results_main30yr_P_usable.iterrows():\n",
        "  P_usable_cum = 0\n",
        "  obj_func = lambda x: 0.13 * (x + (h_95C - h_120C) * row['mpro'])\n",
        "\n",
        "  for time_step in range(0,3000,25):\n",
        "    if time_step/100-0.250 > 0:\n",
        "     dhout_0 = row['dhout'+f':{time_step/100-0.250:,.3f}']\n",
        "     dhout_1 = row['dhout'+f':{time_step/100:,.3f}']\n",
        "    else:\n",
        "      pass\n",
        "\n",
        "  P_usable_cum += integrate.quad(obj_func, dhout_0, dhout_1)[0]\n",
        "  P_usable_cum_dict = P_usable_cum_dict.append({'pin': row['pin'], 'P_usable_cum': P_usable_cum / 30}, ignore_index=True)\n",
        "\n",
        "P_usable_cum_dict.head(3)\n"
      ],
      "metadata": {
        "id": "XB-ijwk662jS",
        "outputId": "f724bd6b-4a93-4b3f-92a1-f5c98a1f0077",
        "colab": {
          "base_uri": "https://localhost:8080/",
          "height": 143
        }
      },
      "execution_count": 253,
      "outputs": [
        {
          "output_type": "execute_result",
          "data": {
            "text/plain": [
              "           pin  P_usable_cum\n",
              "0  997602694.0          0.00\n",
              "1  874689955.0          0.00\n",
              "2  555177737.0     -26721.76"
            ],
            "text/html": [
              "\n",
              "  <div id=\"df-d9ea6734-8d92-4cc9-aa03-e7cd2278c746\">\n",
              "    <div class=\"colab-df-container\">\n",
              "      <div>\n",
              "<style scoped>\n",
              "    .dataframe tbody tr th:only-of-type {\n",
              "        vertical-align: middle;\n",
              "    }\n",
              "\n",
              "    .dataframe tbody tr th {\n",
              "        vertical-align: top;\n",
              "    }\n",
              "\n",
              "    .dataframe thead th {\n",
              "        text-align: right;\n",
              "    }\n",
              "</style>\n",
              "<table border=\"1\" class=\"dataframe\">\n",
              "  <thead>\n",
              "    <tr style=\"text-align: right;\">\n",
              "      <th></th>\n",
              "      <th>pin</th>\n",
              "      <th>P_usable_cum</th>\n",
              "    </tr>\n",
              "  </thead>\n",
              "  <tbody>\n",
              "    <tr>\n",
              "      <th>0</th>\n",
              "      <td>997602694.0</td>\n",
              "      <td>0.00</td>\n",
              "    </tr>\n",
              "    <tr>\n",
              "      <th>1</th>\n",
              "      <td>874689955.0</td>\n",
              "      <td>0.00</td>\n",
              "    </tr>\n",
              "    <tr>\n",
              "      <th>2</th>\n",
              "      <td>555177737.0</td>\n",
              "      <td>-26721.76</td>\n",
              "    </tr>\n",
              "  </tbody>\n",
              "</table>\n",
              "</div>\n",
              "      <button class=\"colab-df-convert\" onclick=\"convertToInteractive('df-d9ea6734-8d92-4cc9-aa03-e7cd2278c746')\"\n",
              "              title=\"Convert this dataframe to an interactive table.\"\n",
              "              style=\"display:none;\">\n",
              "        \n",
              "  <svg xmlns=\"http://www.w3.org/2000/svg\" height=\"24px\"viewBox=\"0 0 24 24\"\n",
              "       width=\"24px\">\n",
              "    <path d=\"M0 0h24v24H0V0z\" fill=\"none\"/>\n",
              "    <path d=\"M18.56 5.44l.94 2.06.94-2.06 2.06-.94-2.06-.94-.94-2.06-.94 2.06-2.06.94zm-11 1L8.5 8.5l.94-2.06 2.06-.94-2.06-.94L8.5 2.5l-.94 2.06-2.06.94zm10 10l.94 2.06.94-2.06 2.06-.94-2.06-.94-.94-2.06-.94 2.06-2.06.94z\"/><path d=\"M17.41 7.96l-1.37-1.37c-.4-.4-.92-.59-1.43-.59-.52 0-1.04.2-1.43.59L10.3 9.45l-7.72 7.72c-.78.78-.78 2.05 0 2.83L4 21.41c.39.39.9.59 1.41.59.51 0 1.02-.2 1.41-.59l7.78-7.78 2.81-2.81c.8-.78.8-2.07 0-2.86zM5.41 20L4 18.59l7.72-7.72 1.47 1.35L5.41 20z\"/>\n",
              "  </svg>\n",
              "      </button>\n",
              "      \n",
              "  <style>\n",
              "    .colab-df-container {\n",
              "      display:flex;\n",
              "      flex-wrap:wrap;\n",
              "      gap: 12px;\n",
              "    }\n",
              "\n",
              "    .colab-df-convert {\n",
              "      background-color: #E8F0FE;\n",
              "      border: none;\n",
              "      border-radius: 50%;\n",
              "      cursor: pointer;\n",
              "      display: none;\n",
              "      fill: #1967D2;\n",
              "      height: 32px;\n",
              "      padding: 0 0 0 0;\n",
              "      width: 32px;\n",
              "    }\n",
              "\n",
              "    .colab-df-convert:hover {\n",
              "      background-color: #E2EBFA;\n",
              "      box-shadow: 0px 1px 2px rgba(60, 64, 67, 0.3), 0px 1px 3px 1px rgba(60, 64, 67, 0.15);\n",
              "      fill: #174EA6;\n",
              "    }\n",
              "\n",
              "    [theme=dark] .colab-df-convert {\n",
              "      background-color: #3B4455;\n",
              "      fill: #D2E3FC;\n",
              "    }\n",
              "\n",
              "    [theme=dark] .colab-df-convert:hover {\n",
              "      background-color: #434B5C;\n",
              "      box-shadow: 0px 1px 3px 1px rgba(0, 0, 0, 0.15);\n",
              "      filter: drop-shadow(0px 1px 2px rgba(0, 0, 0, 0.3));\n",
              "      fill: #FFFFFF;\n",
              "    }\n",
              "  </style>\n",
              "\n",
              "      <script>\n",
              "        const buttonEl =\n",
              "          document.querySelector('#df-d9ea6734-8d92-4cc9-aa03-e7cd2278c746 button.colab-df-convert');\n",
              "        buttonEl.style.display =\n",
              "          google.colab.kernel.accessAllowed ? 'block' : 'none';\n",
              "\n",
              "        async function convertToInteractive(key) {\n",
              "          const element = document.querySelector('#df-d9ea6734-8d92-4cc9-aa03-e7cd2278c746');\n",
              "          const dataTable =\n",
              "            await google.colab.kernel.invokeFunction('convertToInteractive',\n",
              "                                                     [key], {});\n",
              "          if (!dataTable) return;\n",
              "\n",
              "          const docLinkHtml = 'Like what you see? Visit the ' +\n",
              "            '<a target=\"_blank\" href=https://colab.research.google.com/notebooks/data_table.ipynb>data table notebook</a>'\n",
              "            + ' to learn more about interactive tables.';\n",
              "          element.innerHTML = '';\n",
              "          dataTable['output_type'] = 'display_data';\n",
              "          await google.colab.output.renderOutput(dataTable, element);\n",
              "          const docLink = document.createElement('div');\n",
              "          docLink.innerHTML = docLinkHtml;\n",
              "          element.appendChild(docLink);\n",
              "        }\n",
              "      </script>\n",
              "    </div>\n",
              "  </div>\n",
              "  "
            ]
          },
          "metadata": {},
          "execution_count": 253
        }
      ]
    }
  ]
}